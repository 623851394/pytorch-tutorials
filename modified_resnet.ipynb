{
 "cells": [
  {
   "cell_type": "markdown",
   "metadata": {},
   "source": [
    "# IMRT QA second model"
   ]
  },
  {
   "cell_type": "code",
   "execution_count": 309,
   "metadata": {},
   "outputs": [],
   "source": [
    "%reload_ext autoreload\n",
    "%autoreload 2\n",
    "%matplotlib inline\n",
    "import pandas as pd\n",
    "import cv2\n",
    "import numpy as np\n",
    "import torch\n",
    "from torch.utils.data import Dataset, DataLoader\n",
    "from torchvision import transforms, utils, models, datasets\n",
    "from torch.autograd import Variable\n",
    "import torch.optim as optim\n",
    "import torch.nn as nn\n",
    "import torch.nn.functional as F\n",
    "import random"
   ]
  },
  {
   "cell_type": "markdown",
   "metadata": {},
   "source": [
    "## Cleaning data\n",
    "Here I manually changed a few measurement that were baddly typed. I filled NAs in a couple of columns and I get rid of NAs in the outcome variable."
   ]
  },
  {
   "cell_type": "code",
   "execution_count": 666,
   "metadata": {},
   "outputs": [],
   "source": [
    "path = \"/data2/yinterian/IMRT-2/\""
   ]
  },
  {
   "cell_type": "code",
   "execution_count": 667,
   "metadata": {},
   "outputs": [],
   "source": [
    "df = pd.read_csv(path + \"Numeric_data-clean.csv\")"
   ]
  },
  {
   "cell_type": "code",
   "execution_count": 668,
   "metadata": {},
   "outputs": [
    {
     "data": {
      "text/html": [
       "<div>\n",
       "<style scoped>\n",
       "    .dataframe tbody tr th:only-of-type {\n",
       "        vertical-align: middle;\n",
       "    }\n",
       "\n",
       "    .dataframe tbody tr th {\n",
       "        vertical-align: top;\n",
       "    }\n",
       "\n",
       "    .dataframe thead th {\n",
       "        text-align: right;\n",
       "    }\n",
       "</style>\n",
       "<table border=\"1\" class=\"dataframe\">\n",
       "  <thead>\n",
       "    <tr style=\"text-align: right;\">\n",
       "      <th></th>\n",
       "      <th>Machine-Type</th>\n",
       "      <th>Technique</th>\n",
       "      <th>NumberOfFields</th>\n",
       "      <th>Energy</th>\n",
       "      <th>NumberOfDetectors</th>\n",
       "      <th>SBRTplan</th>\n",
       "      <th>GlobalPassingRate</th>\n",
       "      <th>LocalPassingRates</th>\n",
       "      <th>tmp</th>\n",
       "      <th>red</th>\n",
       "      <th>output</th>\n",
       "    </tr>\n",
       "  </thead>\n",
       "  <tbody>\n",
       "    <tr>\n",
       "      <th>count</th>\n",
       "      <td>797.000000</td>\n",
       "      <td>797.000000</td>\n",
       "      <td>797.000000</td>\n",
       "      <td>797.000000</td>\n",
       "      <td>795.000000</td>\n",
       "      <td>794.000000</td>\n",
       "      <td>795.000000</td>\n",
       "      <td>792.000000</td>\n",
       "      <td>0.0</td>\n",
       "      <td>0.0</td>\n",
       "      <td>0.0</td>\n",
       "    </tr>\n",
       "    <tr>\n",
       "      <th>mean</th>\n",
       "      <td>2.514429</td>\n",
       "      <td>1.849435</td>\n",
       "      <td>3.099122</td>\n",
       "      <td>1.777917</td>\n",
       "      <td>817.257862</td>\n",
       "      <td>0.178841</td>\n",
       "      <td>98.404226</td>\n",
       "      <td>89.135354</td>\n",
       "      <td>NaN</td>\n",
       "      <td>NaN</td>\n",
       "      <td>NaN</td>\n",
       "    </tr>\n",
       "    <tr>\n",
       "      <th>std</th>\n",
       "      <td>1.454971</td>\n",
       "      <td>1.218540</td>\n",
       "      <td>3.021109</td>\n",
       "      <td>0.897856</td>\n",
       "      <td>524.220535</td>\n",
       "      <td>0.383461</td>\n",
       "      <td>1.924000</td>\n",
       "      <td>9.335458</td>\n",
       "      <td>NaN</td>\n",
       "      <td>NaN</td>\n",
       "      <td>NaN</td>\n",
       "    </tr>\n",
       "    <tr>\n",
       "      <th>min</th>\n",
       "      <td>1.000000</td>\n",
       "      <td>1.000000</td>\n",
       "      <td>1.000000</td>\n",
       "      <td>1.000000</td>\n",
       "      <td>24.000000</td>\n",
       "      <td>0.000000</td>\n",
       "      <td>87.400000</td>\n",
       "      <td>25.900000</td>\n",
       "      <td>NaN</td>\n",
       "      <td>NaN</td>\n",
       "      <td>NaN</td>\n",
       "    </tr>\n",
       "    <tr>\n",
       "      <th>25%</th>\n",
       "      <td>1.000000</td>\n",
       "      <td>1.000000</td>\n",
       "      <td>2.000000</td>\n",
       "      <td>1.000000</td>\n",
       "      <td>465.000000</td>\n",
       "      <td>0.000000</td>\n",
       "      <td>97.800000</td>\n",
       "      <td>84.800000</td>\n",
       "      <td>NaN</td>\n",
       "      <td>NaN</td>\n",
       "      <td>NaN</td>\n",
       "    </tr>\n",
       "    <tr>\n",
       "      <th>50%</th>\n",
       "      <td>2.000000</td>\n",
       "      <td>1.000000</td>\n",
       "      <td>2.000000</td>\n",
       "      <td>1.000000</td>\n",
       "      <td>684.000000</td>\n",
       "      <td>0.000000</td>\n",
       "      <td>99.100000</td>\n",
       "      <td>91.300000</td>\n",
       "      <td>NaN</td>\n",
       "      <td>NaN</td>\n",
       "      <td>NaN</td>\n",
       "    </tr>\n",
       "    <tr>\n",
       "      <th>75%</th>\n",
       "      <td>3.000000</td>\n",
       "      <td>2.000000</td>\n",
       "      <td>2.000000</td>\n",
       "      <td>3.000000</td>\n",
       "      <td>1215.000000</td>\n",
       "      <td>0.000000</td>\n",
       "      <td>99.800000</td>\n",
       "      <td>95.800000</td>\n",
       "      <td>NaN</td>\n",
       "      <td>NaN</td>\n",
       "      <td>NaN</td>\n",
       "    </tr>\n",
       "    <tr>\n",
       "      <th>max</th>\n",
       "      <td>6.000000</td>\n",
       "      <td>5.000000</td>\n",
       "      <td>23.000000</td>\n",
       "      <td>4.000000</td>\n",
       "      <td>9341.000000</td>\n",
       "      <td>1.000000</td>\n",
       "      <td>100.000000</td>\n",
       "      <td>100.000000</td>\n",
       "      <td>NaN</td>\n",
       "      <td>NaN</td>\n",
       "      <td>NaN</td>\n",
       "    </tr>\n",
       "  </tbody>\n",
       "</table>\n",
       "</div>"
      ],
      "text/plain": [
       "       Machine-Type   Technique  NumberOfFields      Energy  \\\n",
       "count    797.000000  797.000000      797.000000  797.000000   \n",
       "mean       2.514429    1.849435        3.099122    1.777917   \n",
       "std        1.454971    1.218540        3.021109    0.897856   \n",
       "min        1.000000    1.000000        1.000000    1.000000   \n",
       "25%        1.000000    1.000000        2.000000    1.000000   \n",
       "50%        2.000000    1.000000        2.000000    1.000000   \n",
       "75%        3.000000    2.000000        2.000000    3.000000   \n",
       "max        6.000000    5.000000       23.000000    4.000000   \n",
       "\n",
       "       NumberOfDetectors    SBRTplan  GlobalPassingRate  LocalPassingRates  \\\n",
       "count         795.000000  794.000000         795.000000         792.000000   \n",
       "mean          817.257862    0.178841          98.404226          89.135354   \n",
       "std           524.220535    0.383461           1.924000           9.335458   \n",
       "min            24.000000    0.000000          87.400000          25.900000   \n",
       "25%           465.000000    0.000000          97.800000          84.800000   \n",
       "50%           684.000000    0.000000          99.100000          91.300000   \n",
       "75%          1215.000000    0.000000          99.800000          95.800000   \n",
       "max          9341.000000    1.000000         100.000000         100.000000   \n",
       "\n",
       "       tmp  red  output  \n",
       "count  0.0  0.0     0.0  \n",
       "mean   NaN  NaN     NaN  \n",
       "std    NaN  NaN     NaN  \n",
       "min    NaN  NaN     NaN  \n",
       "25%    NaN  NaN     NaN  \n",
       "50%    NaN  NaN     NaN  \n",
       "75%    NaN  NaN     NaN  \n",
       "max    NaN  NaN     NaN  "
      ]
     },
     "execution_count": 668,
     "metadata": {},
     "output_type": "execute_result"
    }
   ],
   "source": [
    "df.describe()"
   ]
  },
  {
   "cell_type": "code",
   "execution_count": 669,
   "metadata": {},
   "outputs": [],
   "source": [
    "df[\"id\"] = df.index +1"
   ]
  },
  {
   "cell_type": "code",
   "execution_count": 670,
   "metadata": {},
   "outputs": [],
   "source": [
    "df = df.drop(columns=[\"tmp\", \"red\", \"output\", \"LocalPassingRates\"])\n",
    "#df = df.drop(columns=[\"tmp\", \"red\", \"output\", \"GlobalPassingRate\"])"
   ]
  },
  {
   "cell_type": "code",
   "execution_count": 671,
   "metadata": {},
   "outputs": [],
   "source": [
    "#df = df.loc[df[\"Machine-Type\"] !=3]\n",
    "#df = df.loc[df[\"LocalPassingRates\"] >= 67]\n",
    "df = df.loc[df[\"Technique\"] == 1]"
   ]
  },
  {
   "cell_type": "code",
   "execution_count": 672,
   "metadata": {},
   "outputs": [
    {
     "data": {
      "text/plain": [
       "(476, 8)"
      ]
     },
     "execution_count": 672,
     "metadata": {},
     "output_type": "execute_result"
    }
   ],
   "source": [
    "df.shape"
   ]
  },
  {
   "cell_type": "code",
   "execution_count": 673,
   "metadata": {},
   "outputs": [
    {
     "data": {
      "text/plain": [
       "['NumberOfDetectors', 'SBRTplan', 'GlobalPassingRate']"
      ]
     },
     "execution_count": 673,
     "metadata": {},
     "output_type": "execute_result"
    }
   ],
   "source": [
    "df.columns[df.isna().any()].tolist()"
   ]
  },
  {
   "cell_type": "code",
   "execution_count": 674,
   "metadata": {},
   "outputs": [
    {
     "data": {
      "text/plain": [
       "count     475.000000\n",
       "mean      732.650526\n",
       "std       398.543228\n",
       "min        29.000000\n",
       "25%       410.500000\n",
       "50%       608.000000\n",
       "75%      1116.500000\n",
       "max      1937.000000\n",
       "Name: NumberOfDetectors, dtype: float64"
      ]
     },
     "execution_count": 674,
     "metadata": {},
     "output_type": "execute_result"
    }
   ],
   "source": [
    "df[\"NumberOfDetectors\"].describe()"
   ]
  },
  {
   "cell_type": "code",
   "execution_count": 675,
   "metadata": {},
   "outputs": [],
   "source": [
    "df = df.fillna({\"NumberOfDetectors\": 684})"
   ]
  },
  {
   "cell_type": "code",
   "execution_count": 676,
   "metadata": {},
   "outputs": [
    {
     "data": {
      "text/plain": [
       "count    474.000000\n",
       "mean       0.286920\n",
       "std        0.452802\n",
       "min        0.000000\n",
       "25%        0.000000\n",
       "50%        0.000000\n",
       "75%        1.000000\n",
       "max        1.000000\n",
       "Name: SBRTplan, dtype: float64"
      ]
     },
     "execution_count": 676,
     "metadata": {},
     "output_type": "execute_result"
    }
   ],
   "source": [
    "df[\"SBRTplan\"].describe()"
   ]
  },
  {
   "cell_type": "code",
   "execution_count": 677,
   "metadata": {},
   "outputs": [],
   "source": [
    "df = df.fillna({\"SBRTplan\": 0})"
   ]
  },
  {
   "cell_type": "code",
   "execution_count": 678,
   "metadata": {},
   "outputs": [],
   "source": [
    "df = df.dropna(axis=0, how='any')"
   ]
  },
  {
   "cell_type": "code",
   "execution_count": 679,
   "metadata": {},
   "outputs": [
    {
     "data": {
      "text/plain": [
       "(475, 8)"
      ]
     },
     "execution_count": 679,
     "metadata": {},
     "output_type": "execute_result"
    }
   ],
   "source": [
    "df.shape"
   ]
  },
  {
   "cell_type": "code",
   "execution_count": 680,
   "metadata": {},
   "outputs": [],
   "source": [
    "df.to_csv(path + \"imrt-clean-data.csv\", index=False)"
   ]
  },
  {
   "cell_type": "code",
   "execution_count": 681,
   "metadata": {},
   "outputs": [],
   "source": [
    "df = pd.get_dummies(df, columns=[\"Energy\", \"Machine-Type\"])"
   ]
  },
  {
   "cell_type": "code",
   "execution_count": 682,
   "metadata": {},
   "outputs": [
    {
     "data": {
      "text/html": [
       "<div>\n",
       "<style scoped>\n",
       "    .dataframe tbody tr th:only-of-type {\n",
       "        vertical-align: middle;\n",
       "    }\n",
       "\n",
       "    .dataframe tbody tr th {\n",
       "        vertical-align: top;\n",
       "    }\n",
       "\n",
       "    .dataframe thead th {\n",
       "        text-align: right;\n",
       "    }\n",
       "</style>\n",
       "<table border=\"1\" class=\"dataframe\">\n",
       "  <thead>\n",
       "    <tr style=\"text-align: right;\">\n",
       "      <th></th>\n",
       "      <th>Technique</th>\n",
       "      <th>NumberOfFields</th>\n",
       "      <th>NumberOfDetectors</th>\n",
       "      <th>SBRTplan</th>\n",
       "      <th>GlobalPassingRate</th>\n",
       "      <th>id</th>\n",
       "      <th>Energy_1</th>\n",
       "      <th>Energy_2</th>\n",
       "      <th>Energy_3</th>\n",
       "      <th>Energy_4</th>\n",
       "      <th>Machine-Type_1</th>\n",
       "      <th>Machine-Type_2</th>\n",
       "      <th>Machine-Type_3</th>\n",
       "      <th>Machine-Type_5</th>\n",
       "    </tr>\n",
       "  </thead>\n",
       "  <tbody>\n",
       "    <tr>\n",
       "      <th>2</th>\n",
       "      <td>1</td>\n",
       "      <td>3</td>\n",
       "      <td>364.0</td>\n",
       "      <td>1.0</td>\n",
       "      <td>99.2</td>\n",
       "      <td>3</td>\n",
       "      <td>1</td>\n",
       "      <td>0</td>\n",
       "      <td>0</td>\n",
       "      <td>0</td>\n",
       "      <td>0</td>\n",
       "      <td>0</td>\n",
       "      <td>0</td>\n",
       "      <td>1</td>\n",
       "    </tr>\n",
       "    <tr>\n",
       "      <th>4</th>\n",
       "      <td>1</td>\n",
       "      <td>2</td>\n",
       "      <td>753.0</td>\n",
       "      <td>0.0</td>\n",
       "      <td>99.7</td>\n",
       "      <td>5</td>\n",
       "      <td>0</td>\n",
       "      <td>0</td>\n",
       "      <td>1</td>\n",
       "      <td>0</td>\n",
       "      <td>1</td>\n",
       "      <td>0</td>\n",
       "      <td>0</td>\n",
       "      <td>0</td>\n",
       "    </tr>\n",
       "    <tr>\n",
       "      <th>5</th>\n",
       "      <td>1</td>\n",
       "      <td>2</td>\n",
       "      <td>210.0</td>\n",
       "      <td>0.0</td>\n",
       "      <td>98.6</td>\n",
       "      <td>6</td>\n",
       "      <td>1</td>\n",
       "      <td>0</td>\n",
       "      <td>0</td>\n",
       "      <td>0</td>\n",
       "      <td>1</td>\n",
       "      <td>0</td>\n",
       "      <td>0</td>\n",
       "      <td>0</td>\n",
       "    </tr>\n",
       "    <tr>\n",
       "      <th>11</th>\n",
       "      <td>1</td>\n",
       "      <td>2</td>\n",
       "      <td>359.0</td>\n",
       "      <td>1.0</td>\n",
       "      <td>98.1</td>\n",
       "      <td>12</td>\n",
       "      <td>0</td>\n",
       "      <td>1</td>\n",
       "      <td>0</td>\n",
       "      <td>0</td>\n",
       "      <td>0</td>\n",
       "      <td>1</td>\n",
       "      <td>0</td>\n",
       "      <td>0</td>\n",
       "    </tr>\n",
       "    <tr>\n",
       "      <th>17</th>\n",
       "      <td>1</td>\n",
       "      <td>2</td>\n",
       "      <td>256.0</td>\n",
       "      <td>1.0</td>\n",
       "      <td>98.4</td>\n",
       "      <td>18</td>\n",
       "      <td>1</td>\n",
       "      <td>0</td>\n",
       "      <td>0</td>\n",
       "      <td>0</td>\n",
       "      <td>0</td>\n",
       "      <td>0</td>\n",
       "      <td>0</td>\n",
       "      <td>1</td>\n",
       "    </tr>\n",
       "  </tbody>\n",
       "</table>\n",
       "</div>"
      ],
      "text/plain": [
       "    Technique  NumberOfFields  NumberOfDetectors  SBRTplan  GlobalPassingRate  \\\n",
       "2           1               3              364.0       1.0               99.2   \n",
       "4           1               2              753.0       0.0               99.7   \n",
       "5           1               2              210.0       0.0               98.6   \n",
       "11          1               2              359.0       1.0               98.1   \n",
       "17          1               2              256.0       1.0               98.4   \n",
       "\n",
       "    id  Energy_1  Energy_2  Energy_3  Energy_4  Machine-Type_1  \\\n",
       "2    3         1         0         0         0               0   \n",
       "4    5         0         0         1         0               1   \n",
       "5    6         1         0         0         0               1   \n",
       "11  12         0         1         0         0               0   \n",
       "17  18         1         0         0         0               0   \n",
       "\n",
       "    Machine-Type_2  Machine-Type_3  Machine-Type_5  \n",
       "2                0               0               1  \n",
       "4                0               0               0  \n",
       "5                0               0               0  \n",
       "11               1               0               0  \n",
       "17               0               0               1  "
      ]
     },
     "execution_count": 682,
     "metadata": {},
     "output_type": "execute_result"
    }
   ],
   "source": [
    "df.head()"
   ]
  },
  {
   "cell_type": "code",
   "execution_count": 683,
   "metadata": {},
   "outputs": [],
   "source": [
    "df.to_csv(\"/data2/yinterian/IMRT-2/imrt-clean-data.csv\", index=False)"
   ]
  },
  {
   "cell_type": "code",
   "execution_count": 588,
   "metadata": {},
   "outputs": [
    {
     "data": {
      "text/plain": [
       "[]"
      ]
     },
     "execution_count": 588,
     "metadata": {},
     "output_type": "execute_result"
    }
   ],
   "source": [
    "df.columns[df.isna().any()].tolist()"
   ]
  },
  {
   "cell_type": "markdown",
   "metadata": {},
   "source": [
    "## Splitting train and validation"
   ]
  },
  {
   "cell_type": "code",
   "execution_count": 589,
   "metadata": {},
   "outputs": [
    {
     "data": {
      "text/plain": [
       "(475, 14)"
      ]
     },
     "execution_count": 589,
     "metadata": {},
     "output_type": "execute_result"
    }
   ],
   "source": [
    "df = pd.read_csv(path + \"imrt-clean-data.csv\")\n",
    "df.shape"
   ]
  },
  {
   "cell_type": "code",
   "execution_count": 590,
   "metadata": {},
   "outputs": [
    {
     "data": {
      "text/plain": [
       "118.75"
      ]
     },
     "execution_count": 590,
     "metadata": {},
     "output_type": "execute_result"
    }
   ],
   "source": [
    "df.shape[0]*0.25"
   ]
  },
  {
   "cell_type": "code",
   "execution_count": 591,
   "metadata": {},
   "outputs": [],
   "source": [
    "train = df.sample(frac=0.75, random_state=3)\n",
    "valid = df.drop(train.index)"
   ]
  },
  {
   "cell_type": "code",
   "execution_count": 592,
   "metadata": {},
   "outputs": [],
   "source": [
    "train.to_csv(\"/data2/yinterian/IMRT-2/imrt-train.csv\", index=False)\n",
    "valid.to_csv(\"/data2/yinterian/IMRT-2/imrt-valid.csv\", index=False)"
   ]
  },
  {
   "cell_type": "code",
   "execution_count": 593,
   "metadata": {},
   "outputs": [
    {
     "data": {
      "text/html": [
       "<div>\n",
       "<style scoped>\n",
       "    .dataframe tbody tr th:only-of-type {\n",
       "        vertical-align: middle;\n",
       "    }\n",
       "\n",
       "    .dataframe tbody tr th {\n",
       "        vertical-align: top;\n",
       "    }\n",
       "\n",
       "    .dataframe thead th {\n",
       "        text-align: right;\n",
       "    }\n",
       "</style>\n",
       "<table border=\"1\" class=\"dataframe\">\n",
       "  <thead>\n",
       "    <tr style=\"text-align: right;\">\n",
       "      <th></th>\n",
       "      <th>Technique</th>\n",
       "      <th>NumberOfFields</th>\n",
       "      <th>NumberOfDetectors</th>\n",
       "      <th>SBRTplan</th>\n",
       "      <th>GlobalPassingRate</th>\n",
       "      <th>id</th>\n",
       "      <th>Energy_1</th>\n",
       "      <th>Energy_2</th>\n",
       "      <th>Energy_3</th>\n",
       "      <th>Energy_4</th>\n",
       "      <th>Machine-Type_1</th>\n",
       "      <th>Machine-Type_2</th>\n",
       "      <th>Machine-Type_3</th>\n",
       "      <th>Machine-Type_5</th>\n",
       "    </tr>\n",
       "  </thead>\n",
       "  <tbody>\n",
       "    <tr>\n",
       "      <th>27</th>\n",
       "      <td>1</td>\n",
       "      <td>2</td>\n",
       "      <td>601.0</td>\n",
       "      <td>0.0</td>\n",
       "      <td>100.0</td>\n",
       "      <td>64</td>\n",
       "      <td>0</td>\n",
       "      <td>0</td>\n",
       "      <td>1</td>\n",
       "      <td>0</td>\n",
       "      <td>1</td>\n",
       "      <td>0</td>\n",
       "      <td>0</td>\n",
       "      <td>0</td>\n",
       "    </tr>\n",
       "    <tr>\n",
       "      <th>374</th>\n",
       "      <td>1</td>\n",
       "      <td>2</td>\n",
       "      <td>465.0</td>\n",
       "      <td>0.0</td>\n",
       "      <td>99.6</td>\n",
       "      <td>641</td>\n",
       "      <td>1</td>\n",
       "      <td>0</td>\n",
       "      <td>0</td>\n",
       "      <td>0</td>\n",
       "      <td>0</td>\n",
       "      <td>1</td>\n",
       "      <td>0</td>\n",
       "      <td>0</td>\n",
       "    </tr>\n",
       "    <tr>\n",
       "      <th>259</th>\n",
       "      <td>1</td>\n",
       "      <td>2</td>\n",
       "      <td>300.0</td>\n",
       "      <td>1.0</td>\n",
       "      <td>96.3</td>\n",
       "      <td>478</td>\n",
       "      <td>0</td>\n",
       "      <td>0</td>\n",
       "      <td>1</td>\n",
       "      <td>0</td>\n",
       "      <td>1</td>\n",
       "      <td>0</td>\n",
       "      <td>0</td>\n",
       "      <td>0</td>\n",
       "    </tr>\n",
       "    <tr>\n",
       "      <th>436</th>\n",
       "      <td>1</td>\n",
       "      <td>2</td>\n",
       "      <td>394.0</td>\n",
       "      <td>1.0</td>\n",
       "      <td>94.4</td>\n",
       "      <td>743</td>\n",
       "      <td>0</td>\n",
       "      <td>1</td>\n",
       "      <td>0</td>\n",
       "      <td>0</td>\n",
       "      <td>0</td>\n",
       "      <td>1</td>\n",
       "      <td>0</td>\n",
       "      <td>0</td>\n",
       "    </tr>\n",
       "    <tr>\n",
       "      <th>177</th>\n",
       "      <td>1</td>\n",
       "      <td>2</td>\n",
       "      <td>607.0</td>\n",
       "      <td>0.0</td>\n",
       "      <td>100.0</td>\n",
       "      <td>336</td>\n",
       "      <td>1</td>\n",
       "      <td>0</td>\n",
       "      <td>0</td>\n",
       "      <td>0</td>\n",
       "      <td>0</td>\n",
       "      <td>0</td>\n",
       "      <td>0</td>\n",
       "      <td>1</td>\n",
       "    </tr>\n",
       "  </tbody>\n",
       "</table>\n",
       "</div>"
      ],
      "text/plain": [
       "     Technique  NumberOfFields  NumberOfDetectors  SBRTplan  \\\n",
       "27           1               2              601.0       0.0   \n",
       "374          1               2              465.0       0.0   \n",
       "259          1               2              300.0       1.0   \n",
       "436          1               2              394.0       1.0   \n",
       "177          1               2              607.0       0.0   \n",
       "\n",
       "     GlobalPassingRate   id  Energy_1  Energy_2  Energy_3  Energy_4  \\\n",
       "27               100.0   64         0         0         1         0   \n",
       "374               99.6  641         1         0         0         0   \n",
       "259               96.3  478         0         0         1         0   \n",
       "436               94.4  743         0         1         0         0   \n",
       "177              100.0  336         1         0         0         0   \n",
       "\n",
       "     Machine-Type_1  Machine-Type_2  Machine-Type_3  Machine-Type_5  \n",
       "27                1               0               0               0  \n",
       "374               0               1               0               0  \n",
       "259               1               0               0               0  \n",
       "436               0               1               0               0  \n",
       "177               0               0               0               1  "
      ]
     },
     "execution_count": 593,
     "metadata": {},
     "output_type": "execute_result"
    }
   ],
   "source": [
    "train.head()"
   ]
  },
  {
   "cell_type": "code",
   "execution_count": 595,
   "metadata": {},
   "outputs": [
    {
     "data": {
      "text/plain": [
       "array([ 0.,  0.,  1.,  0.,  1.,  0.,  0.,  0.])"
      ]
     },
     "execution_count": 595,
     "metadata": {},
     "output_type": "execute_result"
    }
   ],
   "source": [
    "train.iloc[0, 6:].values"
   ]
  },
  {
   "cell_type": "markdown",
   "metadata": {},
   "source": [
    "## 10-fold cross-validation"
   ]
  },
  {
   "cell_type": "code",
   "execution_count": 686,
   "metadata": {},
   "outputs": [],
   "source": [
    "# from fast ai\n",
    "def get_cv_idxs(n, cv_idx=0, val_pct=0.1, seed=3):\n",
    "    np.random.seed(seed)\n",
    "    n_val = int(val_pct*n)\n",
    "    idx_start = cv_idx*n_val\n",
    "    idxs = np.random.permutation(n)\n",
    "    return idxs[idx_start:idx_start+n_val]"
   ]
  },
  {
   "cell_type": "code",
   "execution_count": 703,
   "metadata": {},
   "outputs": [],
   "source": [
    "def get_cross_validation_files(k, path):\n",
    "    df = pd.read_csv(f\"{path}/imrt-clean-data.csv\")\n",
    "    n = df.shape[0]\n",
    "    idxs = get_cv_idxs(n, k)\n",
    "    val = df.iloc[idxs,]\n",
    "    train = df.drop(val.index)\n",
    "    train.to_csv(f\"{path}/imrt-train-{k}.csv\", index=False)\n",
    "    val.to_csv(f\"{path}/imrt-val-{k}.csv\", index=False)"
   ]
  },
  {
   "cell_type": "code",
   "execution_count": 704,
   "metadata": {},
   "outputs": [],
   "source": [
    "for k in range(11): get_cross_validation_files(k, path)"
   ]
  },
  {
   "cell_type": "markdown",
   "metadata": {},
   "source": [
    "## Dataset "
   ]
  },
  {
   "cell_type": "code",
   "execution_count": 596,
   "metadata": {},
   "outputs": [],
   "source": [
    "class IMRTQADataset(Dataset):\n",
    "    def __init__(self, path, csv_file, transform=None):\n",
    "        self.path = f\"{path}/train/\"\n",
    "        self.df = pd.read_csv(f\"{path}/{csv_file}\")\n",
    "        self.y = 100 - self.df[\"GlobalPassingRate\"].values\n",
    "        self.id = self.df[\"id\"].values\n",
    "        self.transform = transform\n",
    "    \n",
    "    def __len__(self):\n",
    "        return len(self.y)\n",
    "    \n",
    "    def __getitem__(self, idx):\n",
    "        idx_id = self.id[idx]\n",
    "        path_f = f'{self.path}Plan_{idx_id}.jpg'\n",
    "        x2 = self.df.iloc[idx, 6:].values\n",
    "        img = cv2.imread(path_f).astype(np.float32)/255\n",
    "        x1 = cv2.resize(img, (680, 220))\n",
    "        img = random_crop(img, 180, 660)\n",
    "        #img = cv2.resize(img, (660, 190))\n",
    "        return (np.rollaxis(img, 2), x2), self.y[idx]\n",
    "    \n",
    "imrt_train = IMRTQADataset(path=\"/data2/yinterian/IMRT-2/\", csv_file=\"imrt-train.csv\")\n",
    "imrt_valid = IMRTQADataset(path=\"/data2/yinterian/IMRT-2/\", csv_file=\"imrt-valid.csv\")"
   ]
  },
  {
   "cell_type": "code",
   "execution_count": 597,
   "metadata": {},
   "outputs": [],
   "source": [
    "train_loader = DataLoader(imrt_train, batch_size=64, shuffle=True)\n",
    "valid_loader = DataLoader(imrt_valid, batch_size=64, shuffle=False)"
   ]
  },
  {
   "cell_type": "markdown",
   "metadata": {},
   "source": [
    "## Data Augmentation"
   ]
  },
  {
   "cell_type": "code",
   "execution_count": 27,
   "metadata": {},
   "outputs": [],
   "source": [
    "# version from fast.ai\n",
    "def crop(im, r, c, target_r, target_c): return im[r:r+target_r, c:c+target_c]\n",
    "\n",
    "def random_crop(x, target_r, target_c):\n",
    "    r,c,*_ = x.shape\n",
    "    rand_r = random.uniform(0, 1)\n",
    "    rand_c = random.uniform(0, 1)\n",
    "    start_r = np.floor(rand_r*(r - target_r)).astype(int)\n",
    "    start_c = np.floor(rand_c*(c - target_c)).astype(int)\n",
    "    return crop(x, start_r, start_c, target_r, target_c)"
   ]
  },
  {
   "cell_type": "code",
   "execution_count": 12,
   "metadata": {},
   "outputs": [],
   "source": [
    "id = 1\n",
    "path=\"/data2/yinterian/IMRT-2/train/\"\n",
    "path_f = f'{path}Plan_{id}.jpg'\n",
    "img = cv2.imread(path_f).astype(np.float32)/255"
   ]
  },
  {
   "cell_type": "code",
   "execution_count": 13,
   "metadata": {},
   "outputs": [
    {
     "data": {
      "text/plain": [
       "(220, 680, 3)"
      ]
     },
     "execution_count": 13,
     "metadata": {},
     "output_type": "execute_result"
    }
   ],
   "source": [
    "img.shape"
   ]
  },
  {
   "cell_type": "code",
   "execution_count": 14,
   "metadata": {},
   "outputs": [
    {
     "data": {
      "text/plain": [
       "<matplotlib.image.AxesImage at 0x7ff466024e80>"
      ]
     },
     "execution_count": 14,
     "metadata": {},
     "output_type": "execute_result"
    },
    {
     "data": {
      "image/png": "[encoded data removed]",
      "text/plain": [
       "<matplotlib.figure.Figure at 0x7ff4661657b8>"
      ]
     },
     "metadata": {},
     "output_type": "display_data"
    }
   ],
   "source": [
    "from matplotlib import pyplot as plt\n",
    "plt.imshow(img)"
   ]
  },
  {
   "cell_type": "code",
   "execution_count": 22,
   "metadata": {},
   "outputs": [
    {
     "data": {
      "text/plain": [
       "(190, 660, 3)"
      ]
     },
     "execution_count": 22,
     "metadata": {},
     "output_type": "execute_result"
    }
   ],
   "source": [
    "img2 = random_crop(img, 190, 660)\n",
    "img2.shape"
   ]
  },
  {
   "cell_type": "code",
   "execution_count": 21,
   "metadata": {},
   "outputs": [
    {
     "data": {
      "text/plain": [
       "<matplotlib.image.AxesImage at 0x7ff465dcdd30>"
      ]
     },
     "execution_count": 21,
     "metadata": {},
     "output_type": "execute_result"
    },
    {
     "data": {
      "image/png": "[encoded data removed]",
      "text/plain": [
       "<matplotlib.figure.Figure at 0x7ff465ded5c0>"
      ]
     },
     "metadata": {},
     "output_type": "display_data"
    }
   ],
   "source": [
    "plt.imshow(img2)"
   ]
  },
  {
   "cell_type": "code",
   "execution_count": null,
   "metadata": {},
   "outputs": [],
   "source": []
  },
  {
   "cell_type": "markdown",
   "metadata": {},
   "source": [
    "## Model"
   ]
  },
  {
   "cell_type": "code",
   "execution_count": 760,
   "metadata": {},
   "outputs": [],
   "source": [
    "resnet = models.resnet34(pretrained=True)"
   ]
  },
  {
   "cell_type": "code",
   "execution_count": 605,
   "metadata": {},
   "outputs": [],
   "source": [
    "class Net(nn.Module):\n",
    "    def __init__(self):\n",
    "        super(Net, self).__init__()\n",
    "        resnet = models.resnet34(pretrained=True)\n",
    "        for param in resnet.parameters():\n",
    "            param.requires_grad = False\n",
    "        layers = list(resnet.children())[:8]\n",
    "        self.out = 2*512 + 8\n",
    "        self.top_model = nn.Sequential(*layers)\n",
    "        self.bn1 = nn.BatchNorm2d(self.out, eps=1e-05, momentum=0.1, affine=True)\n",
    "        self.fc1 = nn.Linear(self.out, 10)\n",
    "        self.fc2 = nn.Linear(10, 1)\n",
    "    \n",
    "    def forward(self, x):\n",
    "        img, x = x\n",
    "        img = F.relu(self.top_model(img))\n",
    "        img1 = nn.AdaptiveMaxPool2d((1,1))(img)\n",
    "        img2 = nn.AdaptiveAvgPool2d((1,1))(img)\n",
    "        img1 = img1.view(img1.shape[0], -1)\n",
    "        img2 = img2.view(img2.shape[0], -1)\n",
    "        x = torch.cat([img1, img2, x.float()], 1)\n",
    "        x = self.bn1(x)\n",
    "        x = F.relu(self.fc1(x))\n",
    "        x = nn.Dropout(0.3)(x)\n",
    "        x = F.relu(self.fc2(x))\n",
    "        return x"
   ]
  },
  {
   "cell_type": "markdown",
   "metadata": {},
   "source": [
    "## Testing model"
   ]
  },
  {
   "cell_type": "code",
   "execution_count": 606,
   "metadata": {},
   "outputs": [],
   "source": [
    "net = Net().cuda()"
   ]
  },
  {
   "cell_type": "code",
   "execution_count": 607,
   "metadata": {},
   "outputs": [],
   "source": [
    "x, y = next(iter(train_loader))"
   ]
  },
  {
   "cell_type": "code",
   "execution_count": 608,
   "metadata": {},
   "outputs": [],
   "source": [
    "img, x = x"
   ]
  },
  {
   "cell_type": "code",
   "execution_count": 609,
   "metadata": {},
   "outputs": [],
   "source": [
    "x = Variable(x).cuda()\n",
    "img = Variable(img).cuda()"
   ]
  },
  {
   "cell_type": "code",
   "execution_count": 610,
   "metadata": {},
   "outputs": [],
   "source": [
    "xx = img, x\n",
    "pred = net(xx)"
   ]
  },
  {
   "cell_type": "code",
   "execution_count": 611,
   "metadata": {},
   "outputs": [
    {
     "data": {
      "text/plain": [
       "torch.Size([64, 1])"
      ]
     },
     "execution_count": 611,
     "metadata": {},
     "output_type": "execute_result"
    }
   ],
   "source": [
    "pred.shape"
   ]
  },
  {
   "cell_type": "markdown",
   "metadata": {},
   "source": [
    "## Unfreeze"
   ]
  },
  {
   "cell_type": "code",
   "execution_count": 534,
   "metadata": {},
   "outputs": [],
   "source": [
    "# from fast.ai\n",
    "def set_trainable_attr(m, b=True):\n",
    "    m.trainable = b\n",
    "    for p in m.parameters(): p.requires_grad = b"
   ]
  },
  {
   "cell_type": "code",
   "execution_count": 535,
   "metadata": {},
   "outputs": [],
   "source": [
    "def unfreeze(model, l):\n",
    "    top_model = model.top_model\n",
    "    set_trainable_attr(top_model[l])"
   ]
  },
  {
   "cell_type": "markdown",
   "metadata": {},
   "source": [
    "## Training"
   ]
  },
  {
   "cell_type": "code",
   "execution_count": 536,
   "metadata": {},
   "outputs": [],
   "source": [
    "def train_model(train_loader, test_loader, num_epochs, model, optimizer):\n",
    "    for epoch in range(num_epochs):\n",
    "        model.train()\n",
    "        sum_loss = 0.0\n",
    "        total = 0\n",
    "        for i, (images, labels) in enumerate(train_loader):  \n",
    "            # Convert torch tensor to Variable, change shape of the input\n",
    "            img, x = images\n",
    "            batch = x.shape[0]\n",
    "            x = Variable(x).cuda()\n",
    "            img = Variable(img).cuda()\n",
    "            labels = Variable(labels).cuda().float()\n",
    "        \n",
    "            # Forward + Backward + Optimize\n",
    "            optimizer.zero_grad()  # zero the gradient buffer\n",
    "            xx = img, x\n",
    "            outputs = model(xx).float()\n",
    "            loss = F.l1_loss(outputs, labels)\n",
    "            loss.backward()\n",
    "            optimizer.step()\n",
    "        \n",
    "            total += batch\n",
    "            sum_loss += batch * loss.data[0]\n",
    "        train_loss = sum_loss/total\n",
    "        print('Epoch [%d/%d], Loss: %.4f' %(epoch+1, num_epochs, train_loss))\n",
    "        val_loss = model_loss(model, test_loader)\n",
    "        print('Epoch [%d/%d], Valid MAE: %.4f' %(epoch+1, num_epochs, val_loss))\n",
    "    return val_loss, train_loss"
   ]
  },
  {
   "cell_type": "code",
   "execution_count": 537,
   "metadata": {},
   "outputs": [],
   "source": [
    "def model_loss(model, test_loader):\n",
    "    model.eval()\n",
    "    sum_loss = 0.0\n",
    "    total = 0\n",
    "    for images, labels in test_loader:\n",
    "        img, x = images\n",
    "        x = Variable(x).cuda()\n",
    "        img = Variable(img).cuda()\n",
    "        labels = Variable(labels).cuda().float()\n",
    "        xx = img, x\n",
    "        outputs = model(xx)\n",
    "        loss = F.l1_loss(outputs, labels)\n",
    "        sum_loss += labels.size(0)*loss.data[0]\n",
    "        total += labels.size(0)\n",
    "    return sum_loss/ total"
   ]
  },
  {
   "cell_type": "code",
   "execution_count": 612,
   "metadata": {},
   "outputs": [],
   "source": [
    "net = Net().cuda()"
   ]
  },
  {
   "cell_type": "code",
   "execution_count": 613,
   "metadata": {},
   "outputs": [],
   "source": [
    "learning_rate = 0.01\n",
    "optimizer = optim.Adam(filter(lambda p: p.requires_grad, net.parameters()), lr=learning_rate)"
   ]
  },
  {
   "cell_type": "code",
   "execution_count": 614,
   "metadata": {},
   "outputs": [
    {
     "name": "stdout",
     "output_type": "stream",
     "text": [
      "Epoch [1/10], Loss: 1.1426\n",
      "Epoch [1/10], Valid MAE: 1.4467\n",
      "Epoch [2/10], Loss: 1.0139\n",
      "Epoch [2/10], Valid MAE: 1.3815\n",
      "Epoch [3/10], Loss: 0.9389\n",
      "Epoch [3/10], Valid MAE: 1.4243\n",
      "Epoch [4/10], Loss: 0.9284\n",
      "Epoch [4/10], Valid MAE: 1.3204\n",
      "Epoch [5/10], Loss: 0.9003\n",
      "Epoch [5/10], Valid MAE: 1.2670\n",
      "Epoch [6/10], Loss: 0.9044\n",
      "Epoch [6/10], Valid MAE: 1.2557\n",
      "Epoch [7/10], Loss: 0.8806\n",
      "Epoch [7/10], Valid MAE: 1.1735\n",
      "Epoch [8/10], Loss: 0.8530\n",
      "Epoch [8/10], Valid MAE: 1.2040\n",
      "Epoch [9/10], Loss: 0.8304\n",
      "Epoch [9/10], Valid MAE: 1.2275\n",
      "Epoch [10/10], Loss: 0.8391\n",
      "Epoch [10/10], Valid MAE: 1.1768\n"
     ]
    },
    {
     "data": {
      "text/plain": [
       "(1.1768416026059318, 0.8391223556539985)"
      ]
     },
     "execution_count": 614,
     "metadata": {},
     "output_type": "execute_result"
    }
   ],
   "source": [
    "train_model(train_loader, valid_loader, num_epochs=10, model=net, optimizer=optimizer)"
   ]
  },
  {
   "cell_type": "code",
   "execution_count": 615,
   "metadata": {},
   "outputs": [],
   "source": [
    "learning_rate = 0.001\n",
    "optimizer = optim.Adam(filter(lambda p: p.requires_grad, net.parameters()), lr=learning_rate)"
   ]
  },
  {
   "cell_type": "code",
   "execution_count": 616,
   "metadata": {},
   "outputs": [
    {
     "name": "stdout",
     "output_type": "stream",
     "text": [
      "Epoch [1/10], Loss: 0.8592\n",
      "Epoch [1/10], Valid MAE: 1.1557\n",
      "Epoch [2/10], Loss: 0.8181\n",
      "Epoch [2/10], Valid MAE: 1.1688\n",
      "Epoch [3/10], Loss: 0.7758\n",
      "Epoch [3/10], Valid MAE: 1.1617\n",
      "Epoch [4/10], Loss: 0.8347\n",
      "Epoch [4/10], Valid MAE: 1.0977\n",
      "Epoch [5/10], Loss: 0.7908\n",
      "Epoch [5/10], Valid MAE: 1.0498\n",
      "Epoch [6/10], Loss: 0.7906\n",
      "Epoch [6/10], Valid MAE: 1.0436\n",
      "Epoch [7/10], Loss: 0.7615\n",
      "Epoch [7/10], Valid MAE: 1.1349\n",
      "Epoch [8/10], Loss: 0.7869\n",
      "Epoch [8/10], Valid MAE: 1.0154\n",
      "Epoch [9/10], Loss: 0.7863\n",
      "Epoch [9/10], Valid MAE: 1.1254\n",
      "Epoch [10/10], Loss: 0.8106\n",
      "Epoch [10/10], Valid MAE: 1.0653\n"
     ]
    },
    {
     "data": {
      "text/plain": [
       "(1.0653140334522022, 0.810619031445364)"
      ]
     },
     "execution_count": 616,
     "metadata": {},
     "output_type": "execute_result"
    }
   ],
   "source": [
    "train_model(train_loader, valid_loader, num_epochs=10, model=net, optimizer=optimizer)"
   ]
  },
  {
   "cell_type": "code",
   "execution_count": 617,
   "metadata": {},
   "outputs": [],
   "source": [
    "learning_rate = 0.0001\n",
    "optimizer = optim.Adam(filter(lambda p: p.requires_grad, net.parameters()), lr=learning_rate)"
   ]
  },
  {
   "cell_type": "code",
   "execution_count": 618,
   "metadata": {},
   "outputs": [
    {
     "name": "stdout",
     "output_type": "stream",
     "text": [
      "Epoch [1/20], Loss: 0.7639\n",
      "Epoch [1/20], Valid MAE: 1.0333\n",
      "Epoch [2/20], Loss: 0.7830\n",
      "Epoch [2/20], Valid MAE: 1.0432\n",
      "Epoch [3/20], Loss: 0.7787\n",
      "Epoch [3/20], Valid MAE: 1.0595\n",
      "Epoch [4/20], Loss: 0.7950\n",
      "Epoch [4/20], Valid MAE: 1.0766\n",
      "Epoch [5/20], Loss: 0.7874\n",
      "Epoch [5/20], Valid MAE: 1.0385\n",
      "Epoch [6/20], Loss: 0.8116\n",
      "Epoch [6/20], Valid MAE: 1.0529\n",
      "Epoch [7/20], Loss: 0.7709\n",
      "Epoch [7/20], Valid MAE: 1.0325\n",
      "Epoch [8/20], Loss: 0.7821\n",
      "Epoch [8/20], Valid MAE: 1.0386\n",
      "Epoch [9/20], Loss: 0.8005\n",
      "Epoch [9/20], Valid MAE: 1.0353\n",
      "Epoch [10/20], Loss: 0.8031\n",
      "Epoch [10/20], Valid MAE: 1.0923\n",
      "Epoch [11/20], Loss: 0.8058\n",
      "Epoch [11/20], Valid MAE: 1.1141\n",
      "Epoch [12/20], Loss: 0.7557\n",
      "Epoch [12/20], Valid MAE: 1.1065\n",
      "Epoch [13/20], Loss: 0.7484\n",
      "Epoch [13/20], Valid MAE: 1.0985\n",
      "Epoch [14/20], Loss: 0.7916\n",
      "Epoch [14/20], Valid MAE: 1.1346\n",
      "Epoch [15/20], Loss: 0.7944\n",
      "Epoch [15/20], Valid MAE: 1.0824\n",
      "Epoch [16/20], Loss: 0.7806\n",
      "Epoch [16/20], Valid MAE: 1.0665\n",
      "Epoch [17/20], Loss: 0.7860\n",
      "Epoch [17/20], Valid MAE: 1.0567\n",
      "Epoch [18/20], Loss: 0.7620\n",
      "Epoch [18/20], Valid MAE: 1.0227\n",
      "Epoch [19/20], Loss: 0.7987\n",
      "Epoch [19/20], Valid MAE: 1.0785\n",
      "Epoch [20/20], Loss: 0.8279\n",
      "Epoch [20/20], Valid MAE: 1.0634\n"
     ]
    },
    {
     "data": {
      "text/plain": [
       "(1.0633799679139082, 0.8279487082127774)"
      ]
     },
     "execution_count": 618,
     "metadata": {},
     "output_type": "execute_result"
    }
   ],
   "source": [
    "train_model(train_loader, valid_loader, num_epochs=20, model=net, optimizer=optimizer)"
   ]
  },
  {
   "cell_type": "code",
   "execution_count": 619,
   "metadata": {},
   "outputs": [],
   "source": [
    "# unfreezing the last convolutional layer\n",
    "unfreeze(net, 7)"
   ]
  },
  {
   "cell_type": "code",
   "execution_count": 620,
   "metadata": {},
   "outputs": [],
   "source": [
    "learning_rate = 0.00001\n",
    "optimizer = optim.Adam(filter(lambda p: p.requires_grad, net.parameters()), lr=learning_rate)"
   ]
  },
  {
   "cell_type": "code",
   "execution_count": 621,
   "metadata": {},
   "outputs": [
    {
     "name": "stdout",
     "output_type": "stream",
     "text": [
      "Epoch [1/10], Loss: 0.7721\n",
      "Epoch [1/10], Valid MAE: 1.0790\n",
      "Epoch [2/10], Loss: 0.7770\n",
      "Epoch [2/10], Valid MAE: 1.0698\n",
      "Epoch [3/10], Loss: 0.7367\n",
      "Epoch [3/10], Valid MAE: 1.0093\n",
      "Epoch [4/10], Loss: 0.7665\n",
      "Epoch [4/10], Valid MAE: 1.0240\n",
      "Epoch [5/10], Loss: 0.7364\n",
      "Epoch [5/10], Valid MAE: 1.0093\n",
      "Epoch [6/10], Loss: 0.7499\n",
      "Epoch [6/10], Valid MAE: 1.0929\n",
      "Epoch [7/10], Loss: 0.7512\n",
      "Epoch [7/10], Valid MAE: 1.0384\n",
      "Epoch [8/10], Loss: 0.7896\n",
      "Epoch [8/10], Valid MAE: 1.0704\n",
      "Epoch [9/10], Loss: 0.7592\n",
      "Epoch [9/10], Valid MAE: 1.0620\n",
      "Epoch [10/10], Loss: 0.7033\n",
      "Epoch [10/10], Valid MAE: 1.0148\n"
     ]
    },
    {
     "data": {
      "text/plain": [
       "(1.0147762228460873, 0.7033119328906027)"
      ]
     },
     "execution_count": 621,
     "metadata": {},
     "output_type": "execute_result"
    }
   ],
   "source": [
    "train_model(train_loader, valid_loader, num_epochs=10, model=net, optimizer=optimizer)"
   ]
  },
  {
   "cell_type": "markdown",
   "metadata": {},
   "source": [
    "## Train Fold"
   ]
  },
  {
   "cell_type": "code",
   "execution_count": 709,
   "metadata": {},
   "outputs": [],
   "source": [
    "def train_fold(k):\n",
    "    imrt_train = IMRTQADataset(path=\"/data2/yinterian/IMRT-2/\", csv_file=f\"imrt-train-{k}.csv\")\n",
    "    imrt_valid = IMRTQADataset(path=\"/data2/yinterian/IMRT-2/\", csv_file=f\"imrt-val-{k}.csv\")\n",
    "    train_loader = DataLoader(imrt_train, batch_size=64, shuffle=True)\n",
    "    valid_loader = DataLoader(imrt_valid, batch_size=64, shuffle=False)\n",
    "    net = Net().cuda()\n",
    "    learning_rate = 0.01\n",
    "    optimizer = optim.Adam(filter(lambda p: p.requires_grad, net.parameters()), lr=learning_rate)\n",
    "    train_model(train_loader, valid_loader, num_epochs=10, model=net, optimizer=optimizer)\n",
    "    learning_rate = 0.001\n",
    "    optimizer = optim.Adam(filter(lambda p: p.requires_grad, net.parameters()), lr=learning_rate)\n",
    "    train_model(train_loader, valid_loader, num_epochs=10, model=net, optimizer=optimizer)\n",
    "    learning_rate = 0.0001\n",
    "    optimizer = optim.Adam(filter(lambda p: p.requires_grad, net.parameters()), lr=learning_rate)\n",
    "    train_model(train_loader, valid_loader, num_epochs=10, model=net, optimizer=optimizer)\n",
    "    unfreeze(net, 7)\n",
    "    learning_rate = 0.00001\n",
    "    optimizer = optim.Adam(filter(lambda p: p.requires_grad, net.parameters()), lr=learning_rate)\n",
    "    train_model(train_loader, valid_loader, num_epochs=10, model=net, optimizer=optimizer)\n",
    "    return net, valid_loader"
   ]
  },
  {
   "cell_type": "markdown",
   "metadata": {},
   "source": [
    "## Predict"
   ]
  },
  {
   "cell_type": "code",
   "execution_count": 622,
   "metadata": {},
   "outputs": [],
   "source": [
    "def predict(model, valid_loader):\n",
    "    model.eval()\n",
    "    sum_loss = 0.0\n",
    "    total = 0\n",
    "    y = []\n",
    "    pred = []\n",
    "    for images, labels in valid_loader:\n",
    "        img, x = images\n",
    "        batch = x.shape[0]\n",
    "        x = Variable(x).cuda()\n",
    "        img = Variable(img).cuda()\n",
    "        labels = Variable(labels).cuda().float()\n",
    "        \n",
    "        xx = img, x\n",
    "        outputs = model(xx).float()\n",
    "        loss = F.l1_loss(outputs, labels)\n",
    "        sum_loss += labels.size(0)*loss.data[0]\n",
    "        total += labels.size(0)\n",
    "        y.append(labels.data.cpu().numpy())\n",
    "        pred.append(outputs.data.cpu().numpy())\n",
    "    return np.concatenate(y), np.concatenate(pred)"
   ]
  },
  {
   "cell_type": "code",
   "execution_count": null,
   "metadata": {},
   "outputs": [],
   "source": [
    "def get_predictions(net, valid_loader):\n",
    "    y, pred = predict(net, valid_loader)\n",
    "    pp = pred.reshape(-1)\n",
    "    res = pd.DataFrame({'pred':pp, 'y':y})\n",
    "    return res"
   ]
  },
  {
   "cell_type": "code",
   "execution_count": 723,
   "metadata": {},
   "outputs": [
    {
     "name": "stdout",
     "output_type": "stream",
     "text": [
      "1\n",
      "Epoch [1/10], Loss: 1.1374\n",
      "Epoch [1/10], Valid MAE: 1.0750\n",
      "Epoch [2/10], Loss: 0.9819\n",
      "Epoch [2/10], Valid MAE: 1.0188\n",
      "Epoch [3/10], Loss: 0.9783\n",
      "Epoch [3/10], Valid MAE: 1.0922\n",
      "Epoch [4/10], Loss: 0.9087\n",
      "Epoch [4/10], Valid MAE: 1.0145\n",
      "Epoch [5/10], Loss: 0.9016\n",
      "Epoch [5/10], Valid MAE: 1.0173\n",
      "Epoch [6/10], Loss: 0.9063\n",
      "Epoch [6/10], Valid MAE: 1.1290\n",
      "Epoch [7/10], Loss: 0.8303\n",
      "Epoch [7/10], Valid MAE: 1.0029\n",
      "Epoch [8/10], Loss: 0.8573\n",
      "Epoch [8/10], Valid MAE: 0.9146\n",
      "Epoch [9/10], Loss: 0.8227\n",
      "Epoch [9/10], Valid MAE: 0.8944\n",
      "Epoch [10/10], Loss: 0.8606\n",
      "Epoch [10/10], Valid MAE: 0.8653\n",
      "Epoch [1/10], Loss: 0.8207\n",
      "Epoch [1/10], Valid MAE: 0.9345\n",
      "Epoch [2/10], Loss: 0.7621\n",
      "Epoch [2/10], Valid MAE: 1.0254\n",
      "Epoch [3/10], Loss: 0.7842\n",
      "Epoch [3/10], Valid MAE: 0.9541\n",
      "Epoch [4/10], Loss: 0.8079\n",
      "Epoch [4/10], Valid MAE: 0.9000\n",
      "Epoch [5/10], Loss: 0.8225\n",
      "Epoch [5/10], Valid MAE: 0.8598\n",
      "Epoch [6/10], Loss: 0.7774\n",
      "Epoch [6/10], Valid MAE: 0.7763\n",
      "Epoch [7/10], Loss: 0.8183\n",
      "Epoch [7/10], Valid MAE: 0.9184\n",
      "Epoch [8/10], Loss: 0.7446\n",
      "Epoch [8/10], Valid MAE: 0.8486\n",
      "Epoch [9/10], Loss: 0.7850\n",
      "Epoch [9/10], Valid MAE: 0.9657\n",
      "Epoch [10/10], Loss: 0.7947\n",
      "Epoch [10/10], Valid MAE: 0.8276\n",
      "Epoch [1/10], Loss: 0.7552\n",
      "Epoch [1/10], Valid MAE: 0.8813\n",
      "Epoch [2/10], Loss: 0.7961\n",
      "Epoch [2/10], Valid MAE: 1.0430\n",
      "Epoch [3/10], Loss: 0.7798\n",
      "Epoch [3/10], Valid MAE: 1.0217\n",
      "Epoch [4/10], Loss: 0.7574\n",
      "Epoch [4/10], Valid MAE: 0.9629\n",
      "Epoch [5/10], Loss: 0.7893\n",
      "Epoch [5/10], Valid MAE: 0.8673\n",
      "Epoch [6/10], Loss: 0.7695\n",
      "Epoch [6/10], Valid MAE: 1.0025\n",
      "Epoch [7/10], Loss: 0.7745\n",
      "Epoch [7/10], Valid MAE: 0.8915\n",
      "Epoch [8/10], Loss: 0.7960\n",
      "Epoch [8/10], Valid MAE: 0.9000\n",
      "Epoch [9/10], Loss: 0.7863\n",
      "Epoch [9/10], Valid MAE: 0.9477\n",
      "Epoch [10/10], Loss: 0.7536\n",
      "Epoch [10/10], Valid MAE: 0.9218\n",
      "Epoch [1/10], Loss: 0.7793\n",
      "Epoch [1/10], Valid MAE: 0.9992\n",
      "Epoch [2/10], Loss: 0.7974\n",
      "Epoch [2/10], Valid MAE: 0.9747\n",
      "Epoch [3/10], Loss: 0.7843\n",
      "Epoch [3/10], Valid MAE: 0.9080\n",
      "Epoch [4/10], Loss: 0.7707\n",
      "Epoch [4/10], Valid MAE: 1.1071\n",
      "Epoch [5/10], Loss: 0.8032\n",
      "Epoch [5/10], Valid MAE: 0.8925\n",
      "Epoch [6/10], Loss: 0.7312\n",
      "Epoch [6/10], Valid MAE: 1.0011\n",
      "Epoch [7/10], Loss: 0.7342\n",
      "Epoch [7/10], Valid MAE: 1.0085\n",
      "Epoch [8/10], Loss: 0.7145\n",
      "Epoch [8/10], Valid MAE: 0.9251\n",
      "Epoch [9/10], Loss: 0.7018\n",
      "Epoch [9/10], Valid MAE: 0.8824\n",
      "Epoch [10/10], Loss: 0.7464\n",
      "Epoch [10/10], Valid MAE: 0.8631\n",
      "2\n",
      "Epoch [1/10], Loss: 1.0640\n",
      "Epoch [1/10], Valid MAE: 0.9973\n",
      "Epoch [2/10], Loss: 0.9825\n",
      "Epoch [2/10], Valid MAE: 0.9726\n",
      "Epoch [3/10], Loss: 0.9511\n",
      "Epoch [3/10], Valid MAE: 0.9193\n",
      "Epoch [4/10], Loss: 0.9023\n",
      "Epoch [4/10], Valid MAE: 0.9615\n",
      "Epoch [5/10], Loss: 0.8609\n",
      "Epoch [5/10], Valid MAE: 1.0028\n",
      "Epoch [6/10], Loss: 0.8586\n",
      "Epoch [6/10], Valid MAE: 0.9517\n",
      "Epoch [7/10], Loss: 0.8499\n",
      "Epoch [7/10], Valid MAE: 0.9859\n",
      "Epoch [8/10], Loss: 0.8462\n",
      "Epoch [8/10], Valid MAE: 0.9822\n",
      "Epoch [9/10], Loss: 0.8405\n",
      "Epoch [9/10], Valid MAE: 0.9206\n",
      "Epoch [10/10], Loss: 0.8496\n",
      "Epoch [10/10], Valid MAE: 0.8238\n",
      "Epoch [1/10], Loss: 0.8119\n",
      "Epoch [1/10], Valid MAE: 0.8867\n",
      "Epoch [2/10], Loss: 0.8190\n",
      "Epoch [2/10], Valid MAE: 0.8657\n",
      "Epoch [3/10], Loss: 0.7985\n",
      "Epoch [3/10], Valid MAE: 0.8528\n",
      "Epoch [4/10], Loss: 0.8389\n",
      "Epoch [4/10], Valid MAE: 0.7946\n",
      "Epoch [5/10], Loss: 0.7968\n",
      "Epoch [5/10], Valid MAE: 0.9046\n",
      "Epoch [6/10], Loss: 0.7684\n",
      "Epoch [6/10], Valid MAE: 0.8578\n",
      "Epoch [7/10], Loss: 0.7846\n",
      "Epoch [7/10], Valid MAE: 0.7851\n",
      "Epoch [8/10], Loss: 0.8586\n",
      "Epoch [8/10], Valid MAE: 0.8068\n",
      "Epoch [9/10], Loss: 0.7842\n",
      "Epoch [9/10], Valid MAE: 0.9259\n",
      "Epoch [10/10], Loss: 0.8009\n",
      "Epoch [10/10], Valid MAE: 0.7574\n",
      "Epoch [1/10], Loss: 0.7901\n",
      "Epoch [1/10], Valid MAE: 0.9201\n",
      "Epoch [2/10], Loss: 0.7750\n",
      "Epoch [2/10], Valid MAE: 0.8250\n",
      "Epoch [3/10], Loss: 0.8011\n",
      "Epoch [3/10], Valid MAE: 1.0012\n",
      "Epoch [4/10], Loss: 0.7924\n",
      "Epoch [4/10], Valid MAE: 0.8421\n",
      "Epoch [5/10], Loss: 0.7977\n",
      "Epoch [5/10], Valid MAE: 0.8679\n",
      "Epoch [6/10], Loss: 0.8007\n",
      "Epoch [6/10], Valid MAE: 0.8355\n",
      "Epoch [7/10], Loss: 0.8214\n",
      "Epoch [7/10], Valid MAE: 0.8565\n",
      "Epoch [8/10], Loss: 0.7924\n",
      "Epoch [8/10], Valid MAE: 0.7985\n",
      "Epoch [9/10], Loss: 0.7990\n",
      "Epoch [9/10], Valid MAE: 0.8562\n",
      "Epoch [10/10], Loss: 0.7682\n",
      "Epoch [10/10], Valid MAE: 0.8800\n",
      "Epoch [1/10], Loss: 0.7852\n",
      "Epoch [1/10], Valid MAE: 0.7739\n",
      "Epoch [2/10], Loss: 0.7992\n",
      "Epoch [2/10], Valid MAE: 0.7336\n",
      "Epoch [3/10], Loss: 0.7473\n",
      "Epoch [3/10], Valid MAE: 0.8050\n",
      "Epoch [4/10], Loss: 0.7698\n",
      "Epoch [4/10], Valid MAE: 0.8249\n",
      "Epoch [5/10], Loss: 0.7754\n",
      "Epoch [5/10], Valid MAE: 0.7788\n",
      "Epoch [6/10], Loss: 0.7691\n",
      "Epoch [6/10], Valid MAE: 0.7793\n",
      "Epoch [7/10], Loss: 0.7364\n",
      "Epoch [7/10], Valid MAE: 0.8354\n",
      "Epoch [8/10], Loss: 0.7144\n",
      "Epoch [8/10], Valid MAE: 0.8709\n",
      "Epoch [9/10], Loss: 0.7421\n",
      "Epoch [9/10], Valid MAE: 0.8315\n",
      "Epoch [10/10], Loss: 0.7309\n",
      "Epoch [10/10], Valid MAE: 0.7314\n",
      "3\n",
      "Epoch [1/10], Loss: 1.1297\n",
      "Epoch [1/10], Valid MAE: 0.8128\n",
      "Epoch [2/10], Loss: 1.0077\n",
      "Epoch [2/10], Valid MAE: 0.7832\n",
      "Epoch [3/10], Loss: 0.9286\n",
      "Epoch [3/10], Valid MAE: 0.6238\n",
      "Epoch [4/10], Loss: 0.8719\n",
      "Epoch [4/10], Valid MAE: 0.6744\n",
      "Epoch [5/10], Loss: 0.8844\n",
      "Epoch [5/10], Valid MAE: 0.7333\n",
      "Epoch [6/10], Loss: 0.8801\n",
      "Epoch [6/10], Valid MAE: 0.7923\n",
      "Epoch [7/10], Loss: 0.8635\n",
      "Epoch [7/10], Valid MAE: 0.7692\n",
      "Epoch [8/10], Loss: 0.8401\n",
      "Epoch [8/10], Valid MAE: 0.8836\n",
      "Epoch [9/10], Loss: 0.8179\n",
      "Epoch [9/10], Valid MAE: 0.8202\n",
      "Epoch [10/10], Loss: 0.8491\n",
      "Epoch [10/10], Valid MAE: 0.8321\n",
      "Epoch [1/10], Loss: 0.7810\n",
      "Epoch [1/10], Valid MAE: 0.8351\n",
      "Epoch [2/10], Loss: 0.8230\n",
      "Epoch [2/10], Valid MAE: 0.6648\n",
      "Epoch [3/10], Loss: 0.7596\n",
      "Epoch [3/10], Valid MAE: 0.7599\n",
      "Epoch [4/10], Loss: 0.8114\n",
      "Epoch [4/10], Valid MAE: 0.7701\n",
      "Epoch [5/10], Loss: 0.7785\n",
      "Epoch [5/10], Valid MAE: 0.7574\n",
      "Epoch [6/10], Loss: 0.7824\n",
      "Epoch [6/10], Valid MAE: 0.6859\n",
      "Epoch [7/10], Loss: 0.8127\n",
      "Epoch [7/10], Valid MAE: 0.6390\n",
      "Epoch [8/10], Loss: 0.7977\n",
      "Epoch [8/10], Valid MAE: 0.6834\n",
      "Epoch [9/10], Loss: 0.7898\n",
      "Epoch [9/10], Valid MAE: 0.7577\n",
      "Epoch [10/10], Loss: 0.7781\n",
      "Epoch [10/10], Valid MAE: 0.7724\n",
      "Epoch [1/10], Loss: 0.7799\n",
      "Epoch [1/10], Valid MAE: 0.6771\n",
      "Epoch [2/10], Loss: 0.7961\n",
      "Epoch [2/10], Valid MAE: 0.7271\n",
      "Epoch [3/10], Loss: 0.7868\n",
      "Epoch [3/10], Valid MAE: 0.7436\n",
      "Epoch [4/10], Loss: 0.8419\n",
      "Epoch [4/10], Valid MAE: 0.7019\n",
      "Epoch [5/10], Loss: 0.7475\n",
      "Epoch [5/10], Valid MAE: 0.7186\n",
      "Epoch [6/10], Loss: 0.8200\n",
      "Epoch [6/10], Valid MAE: 0.6986\n",
      "Epoch [7/10], Loss: 0.7724\n",
      "Epoch [7/10], Valid MAE: 0.7057\n",
      "Epoch [8/10], Loss: 0.7601\n",
      "Epoch [8/10], Valid MAE: 0.7094\n",
      "Epoch [9/10], Loss: 0.7569\n",
      "Epoch [9/10], Valid MAE: 0.7596\n",
      "Epoch [10/10], Loss: 0.7893\n",
      "Epoch [10/10], Valid MAE: 0.5750\n",
      "Epoch [1/10], Loss: 0.7961\n",
      "Epoch [1/10], Valid MAE: 0.7637\n",
      "Epoch [2/10], Loss: 0.7719\n",
      "Epoch [2/10], Valid MAE: 0.7559\n",
      "Epoch [3/10], Loss: 0.7587\n",
      "Epoch [3/10], Valid MAE: 0.7635\n",
      "Epoch [4/10], Loss: 0.7812\n",
      "Epoch [4/10], Valid MAE: 0.7032\n",
      "Epoch [5/10], Loss: 0.7207\n",
      "Epoch [5/10], Valid MAE: 0.6853\n",
      "Epoch [6/10], Loss: 0.7255\n",
      "Epoch [6/10], Valid MAE: 0.7441\n",
      "Epoch [7/10], Loss: 0.7534\n",
      "Epoch [7/10], Valid MAE: 0.7265\n",
      "Epoch [8/10], Loss: 0.7242\n",
      "Epoch [8/10], Valid MAE: 0.7103\n",
      "Epoch [9/10], Loss: 0.6978\n",
      "Epoch [9/10], Valid MAE: 0.7860\n",
      "Epoch [10/10], Loss: 0.7170\n",
      "Epoch [10/10], Valid MAE: 0.7413\n",
      "4\n",
      "Epoch [1/10], Loss: 1.1173\n",
      "Epoch [1/10], Valid MAE: 1.1498\n",
      "Epoch [2/10], Loss: 1.0106\n",
      "Epoch [2/10], Valid MAE: 1.2309\n",
      "Epoch [3/10], Loss: 0.9922\n",
      "Epoch [3/10], Valid MAE: 1.1385\n",
      "Epoch [4/10], Loss: 0.9052\n",
      "Epoch [4/10], Valid MAE: 1.2243\n",
      "Epoch [5/10], Loss: 0.8816\n",
      "Epoch [5/10], Valid MAE: 1.1093\n",
      "Epoch [6/10], Loss: 0.8707\n",
      "Epoch [6/10], Valid MAE: 1.1182\n",
      "Epoch [7/10], Loss: 0.8856\n",
      "Epoch [7/10], Valid MAE: 1.1320\n",
      "Epoch [8/10], Loss: 0.8616\n",
      "Epoch [8/10], Valid MAE: 0.9913\n",
      "Epoch [9/10], Loss: 0.8325\n",
      "Epoch [9/10], Valid MAE: 1.2214\n",
      "Epoch [10/10], Loss: 0.8293\n",
      "Epoch [10/10], Valid MAE: 1.2480\n",
      "Epoch [1/10], Loss: 0.8342\n",
      "Epoch [1/10], Valid MAE: 1.1906\n",
      "Epoch [2/10], Loss: 0.8159\n",
      "Epoch [2/10], Valid MAE: 1.0815\n",
      "Epoch [3/10], Loss: 0.8564\n",
      "Epoch [3/10], Valid MAE: 0.9605\n",
      "Epoch [4/10], Loss: 0.8637\n",
      "Epoch [4/10], Valid MAE: 0.9845\n",
      "Epoch [5/10], Loss: 0.7964\n",
      "Epoch [5/10], Valid MAE: 0.9592\n",
      "Epoch [6/10], Loss: 0.8186\n",
      "Epoch [6/10], Valid MAE: 1.0245\n",
      "Epoch [7/10], Loss: 0.7873\n",
      "Epoch [7/10], Valid MAE: 0.9002\n",
      "Epoch [8/10], Loss: 0.8159\n",
      "Epoch [8/10], Valid MAE: 0.9862\n",
      "Epoch [9/10], Loss: 0.7984\n"
     ]
    },
    {
     "name": "stdout",
     "output_type": "stream",
     "text": [
      "Epoch [9/10], Valid MAE: 1.0004\n",
      "Epoch [10/10], Loss: 0.8138\n",
      "Epoch [10/10], Valid MAE: 0.9730\n",
      "Epoch [1/10], Loss: 0.7890\n",
      "Epoch [1/10], Valid MAE: 0.9737\n",
      "Epoch [2/10], Loss: 0.8159\n",
      "Epoch [2/10], Valid MAE: 0.9055\n",
      "Epoch [3/10], Loss: 0.8062\n",
      "Epoch [3/10], Valid MAE: 1.0603\n",
      "Epoch [4/10], Loss: 0.8234\n",
      "Epoch [4/10], Valid MAE: 1.0493\n",
      "Epoch [5/10], Loss: 0.7902\n",
      "Epoch [5/10], Valid MAE: 0.9395\n",
      "Epoch [6/10], Loss: 0.7846\n",
      "Epoch [6/10], Valid MAE: 0.9298\n",
      "Epoch [7/10], Loss: 0.8076\n",
      "Epoch [7/10], Valid MAE: 0.9326\n",
      "Epoch [8/10], Loss: 0.7753\n",
      "Epoch [8/10], Valid MAE: 0.8923\n",
      "Epoch [9/10], Loss: 0.8063\n",
      "Epoch [9/10], Valid MAE: 0.9106\n",
      "Epoch [10/10], Loss: 0.7810\n",
      "Epoch [10/10], Valid MAE: 1.0359\n",
      "Epoch [1/10], Loss: 0.7866\n",
      "Epoch [1/10], Valid MAE: 0.9941\n",
      "Epoch [2/10], Loss: 0.7932\n",
      "Epoch [2/10], Valid MAE: 0.9036\n",
      "Epoch [3/10], Loss: 0.7730\n",
      "Epoch [3/10], Valid MAE: 0.9191\n",
      "Epoch [4/10], Loss: 0.7772\n",
      "Epoch [4/10], Valid MAE: 1.0250\n",
      "Epoch [5/10], Loss: 0.7695\n",
      "Epoch [5/10], Valid MAE: 1.0947\n",
      "Epoch [6/10], Loss: 0.7620\n",
      "Epoch [6/10], Valid MAE: 1.0503\n",
      "Epoch [7/10], Loss: 0.7628\n",
      "Epoch [7/10], Valid MAE: 0.9259\n",
      "Epoch [8/10], Loss: 0.7381\n",
      "Epoch [8/10], Valid MAE: 0.7895\n",
      "Epoch [9/10], Loss: 0.7496\n",
      "Epoch [9/10], Valid MAE: 1.0151\n",
      "Epoch [10/10], Loss: 0.7332\n",
      "Epoch [10/10], Valid MAE: 0.9368\n",
      "5\n",
      "Epoch [1/10], Loss: 1.1239\n",
      "Epoch [1/10], Valid MAE: 1.4195\n",
      "Epoch [2/10], Loss: 1.0360\n",
      "Epoch [2/10], Valid MAE: 1.1959\n",
      "Epoch [3/10], Loss: 1.0282\n",
      "Epoch [3/10], Valid MAE: 1.1983\n",
      "Epoch [4/10], Loss: 0.9096\n",
      "Epoch [4/10], Valid MAE: 1.0811\n",
      "Epoch [5/10], Loss: 0.8709\n",
      "Epoch [5/10], Valid MAE: 1.1135\n",
      "Epoch [6/10], Loss: 0.8503\n",
      "Epoch [6/10], Valid MAE: 1.2008\n",
      "Epoch [7/10], Loss: 0.8394\n",
      "Epoch [7/10], Valid MAE: 1.1560\n",
      "Epoch [8/10], Loss: 0.8473\n",
      "Epoch [8/10], Valid MAE: 1.2013\n",
      "Epoch [9/10], Loss: 0.8706\n",
      "Epoch [9/10], Valid MAE: 1.1949\n",
      "Epoch [10/10], Loss: 0.9094\n",
      "Epoch [10/10], Valid MAE: 0.9958\n",
      "Epoch [1/10], Loss: 0.8542\n",
      "Epoch [1/10], Valid MAE: 1.1188\n",
      "Epoch [2/10], Loss: 0.7799\n",
      "Epoch [2/10], Valid MAE: 1.0716\n",
      "Epoch [3/10], Loss: 0.8414\n",
      "Epoch [3/10], Valid MAE: 1.0863\n",
      "Epoch [4/10], Loss: 0.7679\n",
      "Epoch [4/10], Valid MAE: 1.0309\n",
      "Epoch [5/10], Loss: 0.7723\n",
      "Epoch [5/10], Valid MAE: 1.1027\n",
      "Epoch [6/10], Loss: 0.7766\n",
      "Epoch [6/10], Valid MAE: 1.0617\n",
      "Epoch [7/10], Loss: 0.7999\n",
      "Epoch [7/10], Valid MAE: 1.1029\n",
      "Epoch [8/10], Loss: 0.7729\n",
      "Epoch [8/10], Valid MAE: 1.1298\n",
      "Epoch [9/10], Loss: 0.7830\n",
      "Epoch [9/10], Valid MAE: 1.2102\n",
      "Epoch [10/10], Loss: 0.7536\n",
      "Epoch [10/10], Valid MAE: 0.9584\n",
      "Epoch [1/10], Loss: 0.7371\n",
      "Epoch [1/10], Valid MAE: 1.1017\n",
      "Epoch [2/10], Loss: 0.8121\n",
      "Epoch [2/10], Valid MAE: 1.1617\n",
      "Epoch [3/10], Loss: 0.7526\n",
      "Epoch [3/10], Valid MAE: 1.0144\n",
      "Epoch [4/10], Loss: 0.7881\n",
      "Epoch [4/10], Valid MAE: 1.0146\n",
      "Epoch [5/10], Loss: 0.7893\n",
      "Epoch [5/10], Valid MAE: 1.1945\n",
      "Epoch [6/10], Loss: 0.7695\n",
      "Epoch [6/10], Valid MAE: 1.0628\n",
      "Epoch [7/10], Loss: 0.7902\n",
      "Epoch [7/10], Valid MAE: 1.0367\n",
      "Epoch [8/10], Loss: 0.7420\n",
      "Epoch [8/10], Valid MAE: 1.1280\n",
      "Epoch [9/10], Loss: 0.7571\n",
      "Epoch [9/10], Valid MAE: 1.1279\n",
      "Epoch [10/10], Loss: 0.7598\n",
      "Epoch [10/10], Valid MAE: 1.1791\n",
      "Epoch [1/10], Loss: 0.7585\n",
      "Epoch [1/10], Valid MAE: 1.1330\n",
      "Epoch [2/10], Loss: 0.7432\n",
      "Epoch [2/10], Valid MAE: 1.0803\n",
      "Epoch [3/10], Loss: 0.7558\n",
      "Epoch [3/10], Valid MAE: 1.1974\n",
      "Epoch [4/10], Loss: 0.7453\n",
      "Epoch [4/10], Valid MAE: 1.0988\n",
      "Epoch [5/10], Loss: 0.7494\n",
      "Epoch [5/10], Valid MAE: 0.9622\n",
      "Epoch [6/10], Loss: 0.7746\n",
      "Epoch [6/10], Valid MAE: 1.0383\n",
      "Epoch [7/10], Loss: 0.7230\n",
      "Epoch [7/10], Valid MAE: 1.0998\n",
      "Epoch [8/10], Loss: 0.7630\n",
      "Epoch [8/10], Valid MAE: 1.1173\n",
      "Epoch [9/10], Loss: 0.7116\n",
      "Epoch [9/10], Valid MAE: 1.1450\n",
      "Epoch [10/10], Loss: 0.6724\n",
      "Epoch [10/10], Valid MAE: 1.2408\n",
      "6\n",
      "Epoch [1/10], Loss: 1.0863\n",
      "Epoch [1/10], Valid MAE: 1.1436\n",
      "Epoch [2/10], Loss: 1.0334\n",
      "Epoch [2/10], Valid MAE: 1.1338\n",
      "Epoch [3/10], Loss: 0.9557\n",
      "Epoch [3/10], Valid MAE: 1.0700\n",
      "Epoch [4/10], Loss: 0.9411\n",
      "Epoch [4/10], Valid MAE: 1.0959\n",
      "Epoch [5/10], Loss: 0.8913\n",
      "Epoch [5/10], Valid MAE: 1.0794\n",
      "Epoch [6/10], Loss: 0.8724\n",
      "Epoch [6/10], Valid MAE: 0.9889\n",
      "Epoch [7/10], Loss: 0.8636\n",
      "Epoch [7/10], Valid MAE: 1.0821\n",
      "Epoch [8/10], Loss: 0.8513\n",
      "Epoch [8/10], Valid MAE: 0.9701\n",
      "Epoch [9/10], Loss: 0.8504\n",
      "Epoch [9/10], Valid MAE: 1.1381\n",
      "Epoch [10/10], Loss: 0.8378\n",
      "Epoch [10/10], Valid MAE: 1.0141\n",
      "Epoch [1/10], Loss: 0.7893\n",
      "Epoch [1/10], Valid MAE: 0.9361\n",
      "Epoch [2/10], Loss: 0.8222\n",
      "Epoch [2/10], Valid MAE: 0.9101\n",
      "Epoch [3/10], Loss: 0.8116\n",
      "Epoch [3/10], Valid MAE: 0.9583\n",
      "Epoch [4/10], Loss: 0.7668\n",
      "Epoch [4/10], Valid MAE: 0.8963\n",
      "Epoch [5/10], Loss: 0.7388\n",
      "Epoch [5/10], Valid MAE: 0.8676\n",
      "Epoch [6/10], Loss: 0.7466\n",
      "Epoch [6/10], Valid MAE: 0.8804\n",
      "Epoch [7/10], Loss: 0.7926\n",
      "Epoch [7/10], Valid MAE: 0.9675\n",
      "Epoch [8/10], Loss: 0.7660\n",
      "Epoch [8/10], Valid MAE: 1.0495\n",
      "Epoch [9/10], Loss: 0.7917\n",
      "Epoch [9/10], Valid MAE: 1.0579\n",
      "Epoch [10/10], Loss: 0.7443\n",
      "Epoch [10/10], Valid MAE: 0.9656\n",
      "Epoch [1/10], Loss: 0.7153\n",
      "Epoch [1/10], Valid MAE: 0.9384\n",
      "Epoch [2/10], Loss: 0.7947\n",
      "Epoch [2/10], Valid MAE: 0.9250\n",
      "Epoch [3/10], Loss: 0.7650\n",
      "Epoch [3/10], Valid MAE: 0.9398\n",
      "Epoch [4/10], Loss: 0.7800\n",
      "Epoch [4/10], Valid MAE: 1.1469\n",
      "Epoch [5/10], Loss: 0.7992\n",
      "Epoch [5/10], Valid MAE: 0.9032\n",
      "Epoch [6/10], Loss: 0.8063\n",
      "Epoch [6/10], Valid MAE: 0.8087\n",
      "Epoch [7/10], Loss: 0.7742\n",
      "Epoch [7/10], Valid MAE: 0.8555\n",
      "Epoch [8/10], Loss: 0.7647\n",
      "Epoch [8/10], Valid MAE: 0.8371\n",
      "Epoch [9/10], Loss: 0.7806\n",
      "Epoch [9/10], Valid MAE: 0.8663\n",
      "Epoch [10/10], Loss: 0.7777\n",
      "Epoch [10/10], Valid MAE: 0.9923\n",
      "Epoch [1/10], Loss: 0.7550\n",
      "Epoch [1/10], Valid MAE: 0.9263\n",
      "Epoch [2/10], Loss: 0.7193\n",
      "Epoch [2/10], Valid MAE: 1.0561\n",
      "Epoch [3/10], Loss: 0.7307\n",
      "Epoch [3/10], Valid MAE: 0.9122\n",
      "Epoch [4/10], Loss: 0.7398\n",
      "Epoch [4/10], Valid MAE: 0.7263\n",
      "Epoch [5/10], Loss: 0.7064\n",
      "Epoch [5/10], Valid MAE: 0.8825\n",
      "Epoch [6/10], Loss: 0.7778\n",
      "Epoch [6/10], Valid MAE: 1.1363\n",
      "Epoch [7/10], Loss: 0.7429\n",
      "Epoch [7/10], Valid MAE: 1.1193\n",
      "Epoch [8/10], Loss: 0.7541\n",
      "Epoch [8/10], Valid MAE: 0.9528\n",
      "Epoch [9/10], Loss: 0.7256\n",
      "Epoch [9/10], Valid MAE: 0.8948\n",
      "Epoch [10/10], Loss: 0.7260\n",
      "Epoch [10/10], Valid MAE: 0.9124\n",
      "7\n",
      "Epoch [1/10], Loss: 1.0604\n",
      "Epoch [1/10], Valid MAE: 1.2215\n",
      "Epoch [2/10], Loss: 1.0580\n",
      "Epoch [2/10], Valid MAE: 1.2207\n",
      "Epoch [3/10], Loss: 0.9791\n",
      "Epoch [3/10], Valid MAE: 1.2222\n",
      "Epoch [4/10], Loss: 0.9238\n",
      "Epoch [4/10], Valid MAE: 1.1107\n",
      "Epoch [5/10], Loss: 0.8512\n",
      "Epoch [5/10], Valid MAE: 1.1179\n",
      "Epoch [6/10], Loss: 0.8902\n",
      "Epoch [6/10], Valid MAE: 1.1663\n",
      "Epoch [7/10], Loss: 0.8335\n",
      "Epoch [7/10], Valid MAE: 1.3153\n",
      "Epoch [8/10], Loss: 0.8380\n",
      "Epoch [8/10], Valid MAE: 1.3261\n",
      "Epoch [9/10], Loss: 0.7959\n",
      "Epoch [9/10], Valid MAE: 1.1099\n",
      "Epoch [10/10], Loss: 0.7940\n",
      "Epoch [10/10], Valid MAE: 1.0890\n",
      "Epoch [1/10], Loss: 0.7975\n",
      "Epoch [1/10], Valid MAE: 1.2877\n",
      "Epoch [2/10], Loss: 0.8285\n",
      "Epoch [2/10], Valid MAE: 1.2938\n",
      "Epoch [3/10], Loss: 0.8085\n",
      "Epoch [3/10], Valid MAE: 1.0940\n",
      "Epoch [4/10], Loss: 0.7888\n",
      "Epoch [4/10], Valid MAE: 1.0347\n",
      "Epoch [5/10], Loss: 0.7904\n",
      "Epoch [5/10], Valid MAE: 1.0371\n",
      "Epoch [6/10], Loss: 0.7714\n",
      "Epoch [6/10], Valid MAE: 1.0350\n",
      "Epoch [7/10], Loss: 0.7672\n",
      "Epoch [7/10], Valid MAE: 1.0216\n",
      "Epoch [8/10], Loss: 0.7421\n",
      "Epoch [8/10], Valid MAE: 1.1003\n",
      "Epoch [9/10], Loss: 0.7475\n",
      "Epoch [9/10], Valid MAE: 1.0318\n",
      "Epoch [10/10], Loss: 0.7944\n",
      "Epoch [10/10], Valid MAE: 0.9774\n",
      "Epoch [1/10], Loss: 0.7573\n",
      "Epoch [1/10], Valid MAE: 0.9319\n",
      "Epoch [2/10], Loss: 0.7232\n",
      "Epoch [2/10], Valid MAE: 1.1965\n",
      "Epoch [3/10], Loss: 0.7609\n",
      "Epoch [3/10], Valid MAE: 0.9519\n",
      "Epoch [4/10], Loss: 0.7632\n",
      "Epoch [4/10], Valid MAE: 0.9835\n",
      "Epoch [5/10], Loss: 0.7437\n",
      "Epoch [5/10], Valid MAE: 1.0506\n",
      "Epoch [6/10], Loss: 0.7637\n",
      "Epoch [6/10], Valid MAE: 1.0713\n",
      "Epoch [7/10], Loss: 0.7639\n",
      "Epoch [7/10], Valid MAE: 1.0454\n",
      "Epoch [8/10], Loss: 0.7972\n",
      "Epoch [8/10], Valid MAE: 1.1109\n",
      "Epoch [9/10], Loss: 0.7620\n",
      "Epoch [9/10], Valid MAE: 1.0729\n",
      "Epoch [10/10], Loss: 0.7581\n",
      "Epoch [10/10], Valid MAE: 1.0562\n",
      "Epoch [1/10], Loss: 0.7654\n",
      "Epoch [1/10], Valid MAE: 0.9935\n",
      "Epoch [2/10], Loss: 0.7569\n",
      "Epoch [2/10], Valid MAE: 0.9517\n",
      "Epoch [3/10], Loss: 0.7866\n",
      "Epoch [3/10], Valid MAE: 0.8685\n",
      "Epoch [4/10], Loss: 0.7319\n",
      "Epoch [4/10], Valid MAE: 1.1299\n",
      "Epoch [5/10], Loss: 0.7144\n",
      "Epoch [5/10], Valid MAE: 1.0856\n",
      "Epoch [6/10], Loss: 0.7313\n",
      "Epoch [6/10], Valid MAE: 0.9943\n",
      "Epoch [7/10], Loss: 0.7733\n",
      "Epoch [7/10], Valid MAE: 1.0715\n"
     ]
    },
    {
     "name": "stdout",
     "output_type": "stream",
     "text": [
      "Epoch [8/10], Loss: 0.7228\n",
      "Epoch [8/10], Valid MAE: 1.1330\n",
      "Epoch [9/10], Loss: 0.7082\n",
      "Epoch [9/10], Valid MAE: 1.1265\n",
      "Epoch [10/10], Loss: 0.7040\n",
      "Epoch [10/10], Valid MAE: 1.1271\n",
      "8\n",
      "Epoch [1/10], Loss: 1.0227\n",
      "Epoch [1/10], Valid MAE: 1.4206\n",
      "Epoch [2/10], Loss: 0.9491\n",
      "Epoch [2/10], Valid MAE: 1.3557\n",
      "Epoch [3/10], Loss: 0.9601\n",
      "Epoch [3/10], Valid MAE: 1.3974\n",
      "Epoch [4/10], Loss: 0.9254\n",
      "Epoch [4/10], Valid MAE: 1.2541\n",
      "Epoch [5/10], Loss: 0.8988\n",
      "Epoch [5/10], Valid MAE: 1.2090\n",
      "Epoch [6/10], Loss: 0.8399\n",
      "Epoch [6/10], Valid MAE: 1.3523\n",
      "Epoch [7/10], Loss: 0.8157\n",
      "Epoch [7/10], Valid MAE: 1.3570\n",
      "Epoch [8/10], Loss: 0.8030\n",
      "Epoch [8/10], Valid MAE: 1.2722\n",
      "Epoch [9/10], Loss: 0.8055\n",
      "Epoch [9/10], Valid MAE: 1.3058\n",
      "Epoch [10/10], Loss: 0.7876\n",
      "Epoch [10/10], Valid MAE: 1.2047\n",
      "Epoch [1/10], Loss: 0.7753\n",
      "Epoch [1/10], Valid MAE: 1.1859\n",
      "Epoch [2/10], Loss: 0.7963\n",
      "Epoch [2/10], Valid MAE: 1.1920\n",
      "Epoch [3/10], Loss: 0.7643\n",
      "Epoch [3/10], Valid MAE: 1.1524\n",
      "Epoch [4/10], Loss: 0.7757\n",
      "Epoch [4/10], Valid MAE: 1.1906\n",
      "Epoch [5/10], Loss: 0.7923\n",
      "Epoch [5/10], Valid MAE: 1.0893\n",
      "Epoch [6/10], Loss: 0.7673\n",
      "Epoch [6/10], Valid MAE: 1.1174\n",
      "Epoch [7/10], Loss: 0.7271\n",
      "Epoch [7/10], Valid MAE: 1.0194\n",
      "Epoch [8/10], Loss: 0.7774\n",
      "Epoch [8/10], Valid MAE: 1.1638\n",
      "Epoch [9/10], Loss: 0.7791\n",
      "Epoch [9/10], Valid MAE: 1.0615\n",
      "Epoch [10/10], Loss: 0.7788\n",
      "Epoch [10/10], Valid MAE: 0.9826\n",
      "Epoch [1/10], Loss: 0.7659\n",
      "Epoch [1/10], Valid MAE: 1.0617\n",
      "Epoch [2/10], Loss: 0.7431\n",
      "Epoch [2/10], Valid MAE: 1.1331\n",
      "Epoch [3/10], Loss: 0.7624\n",
      "Epoch [3/10], Valid MAE: 1.1465\n",
      "Epoch [4/10], Loss: 0.7295\n",
      "Epoch [4/10], Valid MAE: 0.9875\n",
      "Epoch [5/10], Loss: 0.7659\n",
      "Epoch [5/10], Valid MAE: 1.1363\n",
      "Epoch [6/10], Loss: 0.7634\n",
      "Epoch [6/10], Valid MAE: 1.1632\n",
      "Epoch [7/10], Loss: 0.8108\n",
      "Epoch [7/10], Valid MAE: 0.9054\n",
      "Epoch [8/10], Loss: 0.7317\n",
      "Epoch [8/10], Valid MAE: 1.2253\n",
      "Epoch [9/10], Loss: 0.7545\n",
      "Epoch [9/10], Valid MAE: 1.0787\n",
      "Epoch [10/10], Loss: 0.7813\n",
      "Epoch [10/10], Valid MAE: 1.1818\n",
      "Epoch [1/10], Loss: 0.7664\n",
      "Epoch [1/10], Valid MAE: 1.1842\n",
      "Epoch [2/10], Loss: 0.7320\n",
      "Epoch [2/10], Valid MAE: 1.0285\n",
      "Epoch [3/10], Loss: 0.7270\n",
      "Epoch [3/10], Valid MAE: 1.1257\n",
      "Epoch [4/10], Loss: 0.7458\n",
      "Epoch [4/10], Valid MAE: 1.0110\n",
      "Epoch [5/10], Loss: 0.7031\n",
      "Epoch [5/10], Valid MAE: 1.0730\n",
      "Epoch [6/10], Loss: 0.7298\n",
      "Epoch [6/10], Valid MAE: 1.0654\n",
      "Epoch [7/10], Loss: 0.7173\n",
      "Epoch [7/10], Valid MAE: 1.1147\n",
      "Epoch [8/10], Loss: 0.7120\n",
      "Epoch [8/10], Valid MAE: 1.0232\n",
      "Epoch [9/10], Loss: 0.6965\n",
      "Epoch [9/10], Valid MAE: 1.1937\n",
      "Epoch [10/10], Loss: 0.7381\n",
      "Epoch [10/10], Valid MAE: 1.0897\n",
      "9\n",
      "Epoch [1/10], Loss: 1.1424\n",
      "Epoch [1/10], Valid MAE: 1.1950\n",
      "Epoch [2/10], Loss: 1.0112\n",
      "Epoch [2/10], Valid MAE: 1.2502\n",
      "Epoch [3/10], Loss: 1.0122\n",
      "Epoch [3/10], Valid MAE: 1.2325\n",
      "Epoch [4/10], Loss: 0.9444\n",
      "Epoch [4/10], Valid MAE: 1.4372\n",
      "Epoch [5/10], Loss: 0.9367\n",
      "Epoch [5/10], Valid MAE: 1.2206\n",
      "Epoch [6/10], Loss: 0.9230\n",
      "Epoch [6/10], Valid MAE: 1.0840\n",
      "Epoch [7/10], Loss: 0.9053\n",
      "Epoch [7/10], Valid MAE: 0.9711\n",
      "Epoch [8/10], Loss: 0.8502\n",
      "Epoch [8/10], Valid MAE: 0.9768\n",
      "Epoch [9/10], Loss: 0.8124\n",
      "Epoch [9/10], Valid MAE: 0.9303\n",
      "Epoch [10/10], Loss: 0.9078\n",
      "Epoch [10/10], Valid MAE: 0.8547\n",
      "Epoch [1/10], Loss: 0.8341\n",
      "Epoch [1/10], Valid MAE: 0.8707\n",
      "Epoch [2/10], Loss: 0.8116\n",
      "Epoch [2/10], Valid MAE: 0.8449\n",
      "Epoch [3/10], Loss: 0.8425\n",
      "Epoch [3/10], Valid MAE: 0.9443\n",
      "Epoch [4/10], Loss: 0.8645\n",
      "Epoch [4/10], Valid MAE: 0.8742\n",
      "Epoch [5/10], Loss: 0.8295\n",
      "Epoch [5/10], Valid MAE: 0.8787\n",
      "Epoch [6/10], Loss: 0.8090\n",
      "Epoch [6/10], Valid MAE: 0.8485\n",
      "Epoch [7/10], Loss: 0.8133\n",
      "Epoch [7/10], Valid MAE: 0.8798\n",
      "Epoch [8/10], Loss: 0.8039\n",
      "Epoch [8/10], Valid MAE: 0.8489\n",
      "Epoch [9/10], Loss: 0.7917\n",
      "Epoch [9/10], Valid MAE: 0.9444\n",
      "Epoch [10/10], Loss: 0.7992\n",
      "Epoch [10/10], Valid MAE: 0.8450\n",
      "Epoch [1/10], Loss: 0.7971\n",
      "Epoch [1/10], Valid MAE: 0.8045\n",
      "Epoch [2/10], Loss: 0.7827\n",
      "Epoch [2/10], Valid MAE: 0.7728\n",
      "Epoch [3/10], Loss: 0.7888\n",
      "Epoch [3/10], Valid MAE: 0.9000\n",
      "Epoch [4/10], Loss: 0.7816\n",
      "Epoch [4/10], Valid MAE: 0.7596\n",
      "Epoch [5/10], Loss: 0.7738\n",
      "Epoch [5/10], Valid MAE: 0.7953\n",
      "Epoch [6/10], Loss: 0.7618\n",
      "Epoch [6/10], Valid MAE: 0.8007\n",
      "Epoch [7/10], Loss: 0.7817\n",
      "Epoch [7/10], Valid MAE: 0.7429\n",
      "Epoch [8/10], Loss: 0.7542\n",
      "Epoch [8/10], Valid MAE: 0.8463\n",
      "Epoch [9/10], Loss: 0.8105\n",
      "Epoch [9/10], Valid MAE: 0.9098\n",
      "Epoch [10/10], Loss: 0.8020\n",
      "Epoch [10/10], Valid MAE: 0.8317\n",
      "Epoch [1/10], Loss: 0.7721\n",
      "Epoch [1/10], Valid MAE: 0.9050\n",
      "Epoch [2/10], Loss: 0.8081\n",
      "Epoch [2/10], Valid MAE: 0.7503\n",
      "Epoch [3/10], Loss: 0.7669\n",
      "Epoch [3/10], Valid MAE: 0.8233\n",
      "Epoch [4/10], Loss: 0.7626\n",
      "Epoch [4/10], Valid MAE: 0.8444\n",
      "Epoch [5/10], Loss: 0.7995\n",
      "Epoch [5/10], Valid MAE: 0.7957\n",
      "Epoch [6/10], Loss: 0.7467\n",
      "Epoch [6/10], Valid MAE: 0.8773\n",
      "Epoch [7/10], Loss: 0.7477\n",
      "Epoch [7/10], Valid MAE: 0.7713\n",
      "Epoch [8/10], Loss: 0.7148\n",
      "Epoch [8/10], Valid MAE: 0.8991\n",
      "Epoch [9/10], Loss: 0.7170\n",
      "Epoch [9/10], Valid MAE: 0.8118\n",
      "Epoch [10/10], Loss: 0.7304\n",
      "Epoch [10/10], Valid MAE: 0.8456\n",
      "10\n",
      "Epoch [1/10], Loss: 1.0478\n",
      "Epoch [1/10], Valid MAE: 0.9908\n",
      "Epoch [2/10], Loss: 0.9901\n",
      "Epoch [2/10], Valid MAE: 1.3509\n",
      "Epoch [3/10], Loss: 0.9158\n",
      "Epoch [3/10], Valid MAE: 1.6031\n",
      "Epoch [4/10], Loss: 0.9088\n",
      "Epoch [4/10], Valid MAE: 1.8356\n",
      "Epoch [5/10], Loss: 0.8726\n",
      "Epoch [5/10], Valid MAE: 1.4288\n",
      "Epoch [6/10], Loss: 0.8807\n",
      "Epoch [6/10], Valid MAE: 1.3954\n",
      "Epoch [7/10], Loss: 0.8722\n",
      "Epoch [7/10], Valid MAE: 1.6414\n",
      "Epoch [8/10], Loss: 0.8295\n",
      "Epoch [8/10], Valid MAE: 1.6366\n",
      "Epoch [9/10], Loss: 0.8708\n",
      "Epoch [9/10], Valid MAE: 1.6951\n",
      "Epoch [10/10], Loss: 0.8552\n",
      "Epoch [10/10], Valid MAE: 1.3328\n",
      "Epoch [1/10], Loss: 0.8137\n",
      "Epoch [1/10], Valid MAE: 1.1611\n",
      "Epoch [2/10], Loss: 0.7827\n",
      "Epoch [2/10], Valid MAE: 1.3658\n",
      "Epoch [3/10], Loss: 0.8048\n",
      "Epoch [3/10], Valid MAE: 1.4336\n",
      "Epoch [4/10], Loss: 0.8428\n",
      "Epoch [4/10], Valid MAE: 0.9820\n",
      "Epoch [5/10], Loss: 0.8025\n",
      "Epoch [5/10], Valid MAE: 1.1673\n",
      "Epoch [6/10], Loss: 0.7654\n",
      "Epoch [6/10], Valid MAE: 1.3219\n",
      "Epoch [7/10], Loss: 0.7812\n",
      "Epoch [7/10], Valid MAE: 1.0211\n",
      "Epoch [8/10], Loss: 0.7919\n",
      "Epoch [8/10], Valid MAE: 1.2235\n",
      "Epoch [9/10], Loss: 0.7886\n",
      "Epoch [9/10], Valid MAE: 1.2256\n",
      "Epoch [10/10], Loss: 0.8083\n",
      "Epoch [10/10], Valid MAE: 1.3564\n",
      "Epoch [1/10], Loss: 0.7616\n",
      "Epoch [1/10], Valid MAE: 1.1224\n",
      "Epoch [2/10], Loss: 0.7742\n",
      "Epoch [2/10], Valid MAE: 1.0309\n",
      "Epoch [3/10], Loss: 0.8290\n",
      "Epoch [3/10], Valid MAE: 1.2830\n",
      "Epoch [4/10], Loss: 0.7443\n",
      "Epoch [4/10], Valid MAE: 1.1361\n",
      "Epoch [5/10], Loss: 0.8020\n",
      "Epoch [5/10], Valid MAE: 1.0688\n",
      "Epoch [6/10], Loss: 0.7672\n",
      "Epoch [6/10], Valid MAE: 1.4585\n",
      "Epoch [7/10], Loss: 0.7952\n",
      "Epoch [7/10], Valid MAE: 0.9474\n",
      "Epoch [8/10], Loss: 0.7762\n",
      "Epoch [8/10], Valid MAE: 1.1700\n",
      "Epoch [9/10], Loss: 0.7484\n",
      "Epoch [9/10], Valid MAE: 1.1790\n",
      "Epoch [10/10], Loss: 0.7828\n",
      "Epoch [10/10], Valid MAE: 1.2644\n",
      "Epoch [1/10], Loss: 0.7737\n",
      "Epoch [1/10], Valid MAE: 1.0065\n",
      "Epoch [2/10], Loss: 0.7736\n",
      "Epoch [2/10], Valid MAE: 1.0190\n",
      "Epoch [3/10], Loss: 0.7473\n",
      "Epoch [3/10], Valid MAE: 1.0827\n",
      "Epoch [4/10], Loss: 0.8268\n",
      "Epoch [4/10], Valid MAE: 1.2188\n",
      "Epoch [5/10], Loss: 0.7952\n",
      "Epoch [5/10], Valid MAE: 1.2129\n",
      "Epoch [6/10], Loss: 0.7529\n",
      "Epoch [6/10], Valid MAE: 1.1277\n",
      "Epoch [7/10], Loss: 0.7501\n",
      "Epoch [7/10], Valid MAE: 1.3010\n",
      "Epoch [8/10], Loss: 0.7499\n",
      "Epoch [8/10], Valid MAE: 0.9071\n",
      "Epoch [9/10], Loss: 0.7623\n",
      "Epoch [9/10], Valid MAE: 1.2615\n",
      "Epoch [10/10], Loss: 0.7296\n",
      "Epoch [10/10], Valid MAE: 0.8525\n"
     ]
    }
   ],
   "source": [
    "for k in range(1,11):\n",
    "    print(k)\n",
    "    net, valid_loader = train_fold(k)\n",
    "    res = get_predictions(net, valid_loader)\n",
    "    res.to_csv(f\"{path}/res-{k}.csv\", index=False)"
   ]
  },
  {
   "cell_type": "code",
   "execution_count": 743,
   "metadata": {},
   "outputs": [],
   "source": [
    "df = pd.concat([pd.read_csv(f\"{path}/res-{k}.csv\") for k in range(11)])"
   ]
  },
  {
   "cell_type": "code",
   "execution_count": 739,
   "metadata": {},
   "outputs": [],
   "source": [
    "df.to_csv(f\"{path}/results-10-fold-cross.csv\", index=False)"
   ]
  },
  {
   "cell_type": "code",
   "execution_count": 729,
   "metadata": {},
   "outputs": [
    {
     "data": {
      "text/plain": [
       "0.9402008771857149"
      ]
     },
     "execution_count": 729,
     "metadata": {},
     "output_type": "execute_result"
    }
   ],
   "source": [
    "## write current error here\n",
    "error = np.abs(df[\"y\"] - df[\"pred\"]).mean()\n",
    "error "
   ]
  },
  {
   "cell_type": "code",
   "execution_count": 730,
   "metadata": {},
   "outputs": [
    {
     "data": {
      "text/plain": [
       "0.69999998807907104"
      ]
     },
     "execution_count": 730,
     "metadata": {},
     "output_type": "execute_result"
    }
   ],
   "source": [
    "m = np.median(df[\"y\"].values)\n",
    "m"
   ]
  },
  {
   "cell_type": "code",
   "execution_count": 731,
   "metadata": {},
   "outputs": [
    {
     "data": {
      "text/plain": [
       "1.1087578904903248"
      ]
     },
     "execution_count": 731,
     "metadata": {},
     "output_type": "execute_result"
    }
   ],
   "source": [
    "r =  df[\"y\"].values - m\n",
    "res_mean = np.abs(r).mean()\n",
    "res_mean"
   ]
  },
  {
   "cell_type": "code",
   "execution_count": 732,
   "metadata": {},
   "outputs": [
    {
     "data": {
      "text/plain": [
       "0.15202328186369807"
      ]
     },
     "execution_count": 732,
     "metadata": {},
     "output_type": "execute_result"
    }
   ],
   "source": [
    "1- error/res_mean"
   ]
  },
  {
   "cell_type": "code",
   "execution_count": 733,
   "metadata": {},
   "outputs": [],
   "source": [
    "df[\"residual\"] = df[\"y\"] - df[\"pred\"]"
   ]
  },
  {
   "cell_type": "code",
   "execution_count": 735,
   "metadata": {},
   "outputs": [],
   "source": [
    "errors3 = np.abs(df[\"residual\"].values) > 3"
   ]
  },
  {
   "cell_type": "code",
   "execution_count": 736,
   "metadata": {},
   "outputs": [
    {
     "data": {
      "text/plain": [
       "30"
      ]
     },
     "execution_count": 736,
     "metadata": {},
     "output_type": "execute_result"
    }
   ],
   "source": [
    "errors3.sum()"
   ]
  },
  {
   "cell_type": "code",
   "execution_count": 737,
   "metadata": {},
   "outputs": [
    {
     "data": {
      "text/plain": [
       "(475,)"
      ]
     },
     "execution_count": 737,
     "metadata": {},
     "output_type": "execute_result"
    }
   ],
   "source": [
    "r.shape"
   ]
  },
  {
   "cell_type": "code",
   "execution_count": 738,
   "metadata": {},
   "outputs": [
    {
     "data": {
      "text/plain": [
       "0.9368421052631579"
      ]
     },
     "execution_count": 738,
     "metadata": {},
     "output_type": "execute_result"
    }
   ],
   "source": [
    "1- 30/475"
   ]
  },
  {
   "cell_type": "code",
   "execution_count": 740,
   "metadata": {},
   "outputs": [],
   "source": [
    "df_val = pd.concat([pd.read_csv(f\"{path}/imrt-val-{k}.csv\") for k in range(11)])"
   ]
  },
  {
   "cell_type": "code",
   "execution_count": 742,
   "metadata": {},
   "outputs": [
    {
     "data": {
      "text/html": [
       "<div>\n",
       "<style scoped>\n",
       "    .dataframe tbody tr th:only-of-type {\n",
       "        vertical-align: middle;\n",
       "    }\n",
       "\n",
       "    .dataframe tbody tr th {\n",
       "        vertical-align: top;\n",
       "    }\n",
       "\n",
       "    .dataframe thead th {\n",
       "        text-align: right;\n",
       "    }\n",
       "</style>\n",
       "<table border=\"1\" class=\"dataframe\">\n",
       "  <thead>\n",
       "    <tr style=\"text-align: right;\">\n",
       "      <th></th>\n",
       "      <th>Technique</th>\n",
       "      <th>NumberOfFields</th>\n",
       "      <th>NumberOfDetectors</th>\n",
       "      <th>SBRTplan</th>\n",
       "      <th>GlobalPassingRate</th>\n",
       "      <th>id</th>\n",
       "      <th>Energy_1</th>\n",
       "      <th>Energy_2</th>\n",
       "      <th>Energy_3</th>\n",
       "      <th>Energy_4</th>\n",
       "      <th>Machine-Type_1</th>\n",
       "      <th>Machine-Type_2</th>\n",
       "      <th>Machine-Type_3</th>\n",
       "      <th>Machine-Type_5</th>\n",
       "    </tr>\n",
       "  </thead>\n",
       "  <tbody>\n",
       "    <tr>\n",
       "      <th>0</th>\n",
       "      <td>1</td>\n",
       "      <td>2</td>\n",
       "      <td>601.0</td>\n",
       "      <td>0.0</td>\n",
       "      <td>100.0</td>\n",
       "      <td>64</td>\n",
       "      <td>0</td>\n",
       "      <td>0</td>\n",
       "      <td>1</td>\n",
       "      <td>0</td>\n",
       "      <td>1</td>\n",
       "      <td>0</td>\n",
       "      <td>0</td>\n",
       "      <td>0</td>\n",
       "    </tr>\n",
       "    <tr>\n",
       "      <th>1</th>\n",
       "      <td>1</td>\n",
       "      <td>2</td>\n",
       "      <td>465.0</td>\n",
       "      <td>0.0</td>\n",
       "      <td>99.6</td>\n",
       "      <td>641</td>\n",
       "      <td>1</td>\n",
       "      <td>0</td>\n",
       "      <td>0</td>\n",
       "      <td>0</td>\n",
       "      <td>0</td>\n",
       "      <td>1</td>\n",
       "      <td>0</td>\n",
       "      <td>0</td>\n",
       "    </tr>\n",
       "    <tr>\n",
       "      <th>2</th>\n",
       "      <td>1</td>\n",
       "      <td>2</td>\n",
       "      <td>300.0</td>\n",
       "      <td>1.0</td>\n",
       "      <td>96.3</td>\n",
       "      <td>478</td>\n",
       "      <td>0</td>\n",
       "      <td>0</td>\n",
       "      <td>1</td>\n",
       "      <td>0</td>\n",
       "      <td>1</td>\n",
       "      <td>0</td>\n",
       "      <td>0</td>\n",
       "      <td>0</td>\n",
       "    </tr>\n",
       "    <tr>\n",
       "      <th>3</th>\n",
       "      <td>1</td>\n",
       "      <td>2</td>\n",
       "      <td>394.0</td>\n",
       "      <td>1.0</td>\n",
       "      <td>94.4</td>\n",
       "      <td>743</td>\n",
       "      <td>0</td>\n",
       "      <td>1</td>\n",
       "      <td>0</td>\n",
       "      <td>0</td>\n",
       "      <td>0</td>\n",
       "      <td>1</td>\n",
       "      <td>0</td>\n",
       "      <td>0</td>\n",
       "    </tr>\n",
       "    <tr>\n",
       "      <th>4</th>\n",
       "      <td>1</td>\n",
       "      <td>2</td>\n",
       "      <td>607.0</td>\n",
       "      <td>0.0</td>\n",
       "      <td>100.0</td>\n",
       "      <td>336</td>\n",
       "      <td>1</td>\n",
       "      <td>0</td>\n",
       "      <td>0</td>\n",
       "      <td>0</td>\n",
       "      <td>0</td>\n",
       "      <td>0</td>\n",
       "      <td>0</td>\n",
       "      <td>1</td>\n",
       "    </tr>\n",
       "  </tbody>\n",
       "</table>\n",
       "</div>"
      ],
      "text/plain": [
       "   Technique  NumberOfFields  NumberOfDetectors  SBRTplan  GlobalPassingRate  \\\n",
       "0          1               2              601.0       0.0              100.0   \n",
       "1          1               2              465.0       0.0               99.6   \n",
       "2          1               2              300.0       1.0               96.3   \n",
       "3          1               2              394.0       1.0               94.4   \n",
       "4          1               2              607.0       0.0              100.0   \n",
       "\n",
       "    id  Energy_1  Energy_2  Energy_3  Energy_4  Machine-Type_1  \\\n",
       "0   64         0         0         1         0               1   \n",
       "1  641         1         0         0         0               0   \n",
       "2  478         0         0         1         0               1   \n",
       "3  743         0         1         0         0               0   \n",
       "4  336         1         0         0         0               0   \n",
       "\n",
       "   Machine-Type_2  Machine-Type_3  Machine-Type_5  \n",
       "0               0               0               0  \n",
       "1               1               0               0  \n",
       "2               0               0               0  \n",
       "3               1               0               0  \n",
       "4               0               0               1  "
      ]
     },
     "execution_count": 742,
     "metadata": {},
     "output_type": "execute_result"
    }
   ],
   "source": [
    "df_val.head()"
   ]
  },
  {
   "cell_type": "code",
   "execution_count": 744,
   "metadata": {},
   "outputs": [
    {
     "data": {
      "text/html": [
       "<div>\n",
       "<style scoped>\n",
       "    .dataframe tbody tr th:only-of-type {\n",
       "        vertical-align: middle;\n",
       "    }\n",
       "\n",
       "    .dataframe tbody tr th {\n",
       "        vertical-align: top;\n",
       "    }\n",
       "\n",
       "    .dataframe thead th {\n",
       "        text-align: right;\n",
       "    }\n",
       "</style>\n",
       "<table border=\"1\" class=\"dataframe\">\n",
       "  <thead>\n",
       "    <tr style=\"text-align: right;\">\n",
       "      <th></th>\n",
       "      <th>pred</th>\n",
       "      <th>y</th>\n",
       "    </tr>\n",
       "  </thead>\n",
       "  <tbody>\n",
       "    <tr>\n",
       "      <th>0</th>\n",
       "      <td>0.000000</td>\n",
       "      <td>0.0</td>\n",
       "    </tr>\n",
       "    <tr>\n",
       "      <th>1</th>\n",
       "      <td>0.371368</td>\n",
       "      <td>0.4</td>\n",
       "    </tr>\n",
       "    <tr>\n",
       "      <th>2</th>\n",
       "      <td>1.355743</td>\n",
       "      <td>3.7</td>\n",
       "    </tr>\n",
       "    <tr>\n",
       "      <th>3</th>\n",
       "      <td>1.084216</td>\n",
       "      <td>5.6</td>\n",
       "    </tr>\n",
       "    <tr>\n",
       "      <th>4</th>\n",
       "      <td>0.112647</td>\n",
       "      <td>0.0</td>\n",
       "    </tr>\n",
       "  </tbody>\n",
       "</table>\n",
       "</div>"
      ],
      "text/plain": [
       "       pred    y\n",
       "0  0.000000  0.0\n",
       "1  0.371368  0.4\n",
       "2  1.355743  3.7\n",
       "3  1.084216  5.6\n",
       "4  0.112647  0.0"
      ]
     },
     "execution_count": 744,
     "metadata": {},
     "output_type": "execute_result"
    }
   ],
   "source": [
    "df.head()"
   ]
  },
  {
   "cell_type": "code",
   "execution_count": 746,
   "metadata": {},
   "outputs": [],
   "source": [
    "df_2 = pd.concat([df, df_val], axis=1)"
   ]
  },
  {
   "cell_type": "code",
   "execution_count": 749,
   "metadata": {},
   "outputs": [],
   "source": [
    "diff = 100 - df_2[\"y\"] - df_2[\"GlobalPassingRate\"]"
   ]
  },
  {
   "cell_type": "code",
   "execution_count": 753,
   "metadata": {},
   "outputs": [
    {
     "data": {
      "text/html": [
       "<div>\n",
       "<style scoped>\n",
       "    .dataframe tbody tr th:only-of-type {\n",
       "        vertical-align: middle;\n",
       "    }\n",
       "\n",
       "    .dataframe tbody tr th {\n",
       "        vertical-align: top;\n",
       "    }\n",
       "\n",
       "    .dataframe thead th {\n",
       "        text-align: right;\n",
       "    }\n",
       "</style>\n",
       "<table border=\"1\" class=\"dataframe\">\n",
       "  <thead>\n",
       "    <tr style=\"text-align: right;\">\n",
       "      <th></th>\n",
       "      <th>pred</th>\n",
       "      <th>y</th>\n",
       "      <th>Technique</th>\n",
       "      <th>NumberOfFields</th>\n",
       "      <th>NumberOfDetectors</th>\n",
       "      <th>SBRTplan</th>\n",
       "      <th>GlobalPassingRate</th>\n",
       "      <th>id</th>\n",
       "      <th>Energy_1</th>\n",
       "      <th>Energy_2</th>\n",
       "      <th>Energy_3</th>\n",
       "      <th>Energy_4</th>\n",
       "      <th>Machine-Type_1</th>\n",
       "      <th>Machine-Type_2</th>\n",
       "      <th>Machine-Type_3</th>\n",
       "      <th>Machine-Type_5</th>\n",
       "      <th>residual</th>\n",
       "    </tr>\n",
       "  </thead>\n",
       "  <tbody>\n",
       "    <tr>\n",
       "      <th>0</th>\n",
       "      <td>0.000000</td>\n",
       "      <td>0.0</td>\n",
       "      <td>1</td>\n",
       "      <td>2</td>\n",
       "      <td>601.0</td>\n",
       "      <td>0.0</td>\n",
       "      <td>100.0</td>\n",
       "      <td>64</td>\n",
       "      <td>0</td>\n",
       "      <td>0</td>\n",
       "      <td>1</td>\n",
       "      <td>0</td>\n",
       "      <td>1</td>\n",
       "      <td>0</td>\n",
       "      <td>0</td>\n",
       "      <td>0</td>\n",
       "      <td>0.000000</td>\n",
       "    </tr>\n",
       "    <tr>\n",
       "      <th>1</th>\n",
       "      <td>0.371368</td>\n",
       "      <td>0.4</td>\n",
       "      <td>1</td>\n",
       "      <td>2</td>\n",
       "      <td>465.0</td>\n",
       "      <td>0.0</td>\n",
       "      <td>99.6</td>\n",
       "      <td>641</td>\n",
       "      <td>1</td>\n",
       "      <td>0</td>\n",
       "      <td>0</td>\n",
       "      <td>0</td>\n",
       "      <td>0</td>\n",
       "      <td>1</td>\n",
       "      <td>0</td>\n",
       "      <td>0</td>\n",
       "      <td>0.028632</td>\n",
       "    </tr>\n",
       "    <tr>\n",
       "      <th>2</th>\n",
       "      <td>1.355743</td>\n",
       "      <td>3.7</td>\n",
       "      <td>1</td>\n",
       "      <td>2</td>\n",
       "      <td>300.0</td>\n",
       "      <td>1.0</td>\n",
       "      <td>96.3</td>\n",
       "      <td>478</td>\n",
       "      <td>0</td>\n",
       "      <td>0</td>\n",
       "      <td>1</td>\n",
       "      <td>0</td>\n",
       "      <td>1</td>\n",
       "      <td>0</td>\n",
       "      <td>0</td>\n",
       "      <td>0</td>\n",
       "      <td>2.344257</td>\n",
       "    </tr>\n",
       "    <tr>\n",
       "      <th>3</th>\n",
       "      <td>1.084216</td>\n",
       "      <td>5.6</td>\n",
       "      <td>1</td>\n",
       "      <td>2</td>\n",
       "      <td>394.0</td>\n",
       "      <td>1.0</td>\n",
       "      <td>94.4</td>\n",
       "      <td>743</td>\n",
       "      <td>0</td>\n",
       "      <td>1</td>\n",
       "      <td>0</td>\n",
       "      <td>0</td>\n",
       "      <td>0</td>\n",
       "      <td>1</td>\n",
       "      <td>0</td>\n",
       "      <td>0</td>\n",
       "      <td>4.515784</td>\n",
       "    </tr>\n",
       "    <tr>\n",
       "      <th>4</th>\n",
       "      <td>0.112647</td>\n",
       "      <td>0.0</td>\n",
       "      <td>1</td>\n",
       "      <td>2</td>\n",
       "      <td>607.0</td>\n",
       "      <td>0.0</td>\n",
       "      <td>100.0</td>\n",
       "      <td>336</td>\n",
       "      <td>1</td>\n",
       "      <td>0</td>\n",
       "      <td>0</td>\n",
       "      <td>0</td>\n",
       "      <td>0</td>\n",
       "      <td>0</td>\n",
       "      <td>0</td>\n",
       "      <td>1</td>\n",
       "      <td>-0.112647</td>\n",
       "    </tr>\n",
       "  </tbody>\n",
       "</table>\n",
       "</div>"
      ],
      "text/plain": [
       "       pred    y  Technique  NumberOfFields  NumberOfDetectors  SBRTplan  \\\n",
       "0  0.000000  0.0          1               2              601.0       0.0   \n",
       "1  0.371368  0.4          1               2              465.0       0.0   \n",
       "2  1.355743  3.7          1               2              300.0       1.0   \n",
       "3  1.084216  5.6          1               2              394.0       1.0   \n",
       "4  0.112647  0.0          1               2              607.0       0.0   \n",
       "\n",
       "   GlobalPassingRate   id  Energy_1  Energy_2  Energy_3  Energy_4  \\\n",
       "0              100.0   64         0         0         1         0   \n",
       "1               99.6  641         1         0         0         0   \n",
       "2               96.3  478         0         0         1         0   \n",
       "3               94.4  743         0         1         0         0   \n",
       "4              100.0  336         1         0         0         0   \n",
       "\n",
       "   Machine-Type_1  Machine-Type_2  Machine-Type_3  Machine-Type_5  residual  \n",
       "0               1               0               0               0  0.000000  \n",
       "1               0               1               0               0  0.028632  \n",
       "2               1               0               0               0  2.344257  \n",
       "3               0               1               0               0  4.515784  \n",
       "4               0               0               0               1 -0.112647  "
      ]
     },
     "execution_count": 753,
     "metadata": {},
     "output_type": "execute_result"
    }
   ],
   "source": [
    "df_2.head()"
   ]
  },
  {
   "cell_type": "code",
   "execution_count": 752,
   "metadata": {},
   "outputs": [],
   "source": [
    "df_2[\"residual\"] = df_2[\"y\"] - df_2[\"pred\"]"
   ]
  },
  {
   "cell_type": "code",
   "execution_count": 755,
   "metadata": {},
   "outputs": [],
   "source": [
    "outliers = df_2.loc[np.abs(df_2[\"residual\"]) > 3]"
   ]
  },
  {
   "cell_type": "code",
   "execution_count": 756,
   "metadata": {},
   "outputs": [
    {
     "data": {
      "text/plain": [
       "(30, 17)"
      ]
     },
     "execution_count": 756,
     "metadata": {},
     "output_type": "execute_result"
    }
   ],
   "source": [
    "outliers.shape"
   ]
  },
  {
   "cell_type": "code",
   "execution_count": 758,
   "metadata": {},
   "outputs": [
    {
     "data": {
      "text/plain": [
       "array([743, 105, 117, 131, 130, 706, 380, 308, 666, 606, 481, 696, 627,\n",
       "       165, 748, 709, 523, 682, 399, 392, 400, 703,  31, 452, 574, 494,\n",
       "       660, 618, 320, 622])"
      ]
     },
     "execution_count": 758,
     "metadata": {},
     "output_type": "execute_result"
    }
   ],
   "source": [
    "outliers[\"id\"].values"
   ]
  },
  {
   "cell_type": "code",
   "execution_count": 759,
   "metadata": {},
   "outputs": [],
   "source": [
    "outliers.to_csv(f\"{path}/outliers.csv\", index=False)"
   ]
  },
  {
   "cell_type": "code",
   "execution_count": null,
   "metadata": {},
   "outputs": [],
   "source": []
  }
 ],
 "metadata": {
  "kernelspec": {
   "display_name": "Python 3",
   "language": "python",
   "name": "python3"
  },
  "language_info": {
   "codemirror_mode": {
    "name": "ipython",
    "version": 3
   },
   "file_extension": ".py",
   "mimetype": "text/x-python",
   "name": "python",
   "nbconvert_exporter": "python",
   "pygments_lexer": "ipython3",
   "version": "3.6.4"
  },
  "toc": {
   "nav_menu": {},
   "number_sections": true,
   "sideBar": true,
   "skip_h1_title": false,
   "toc_cell": false,
   "toc_position": {},
   "toc_section_display": "block",
   "toc_window_display": false
  }
 },
 "nbformat": 4,
 "nbformat_minor": 2
}
