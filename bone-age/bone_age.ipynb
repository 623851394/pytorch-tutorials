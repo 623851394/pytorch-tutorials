{
 "cells": [
  {
   "cell_type": "code",
   "execution_count": 1,
   "metadata": {
    "collapsed": true
   },
   "outputs": [],
   "source": [
    "import sys\n",
    "\n",
    "%reload_ext autoreload\n",
    "%autoreload 2\n",
    "%matplotlib inline\n",
    "\n",
    "from fastai.transforms import *\n",
    "from fastai.conv_learner import *\n",
    "from fastai.model import *\n",
    "from fastai.dataset import *\n",
    "from fastai.sgdr import *"
   ]
  },
  {
   "cell_type": "markdown",
   "metadata": {},
   "source": [
    "This notebook is using the pytorch library from \n",
    "https://github.com/yanneta/deeplearning/tree/master/nbs\n",
    "to solve the bone age challenge from \n",
    "http://rsnachallenges.cloudapp.net/competitions/4"
   ]
  },
  {
   "cell_type": "code",
   "execution_count": 2,
   "metadata": {
    "collapsed": true
   },
   "outputs": [],
   "source": [
    "path = \"/data/yinterian/bone_age/\""
   ]
  },
  {
   "cell_type": "code",
   "execution_count": 3,
   "metadata": {
    "collapsed": true
   },
   "outputs": [],
   "source": [
    "from matplotlib import pyplot as plt\n",
    "import matplotlib.image as mpimg\n",
    "import numpy as np\n",
    "\n",
    "%matplotlib inline"
   ]
  },
  {
   "cell_type": "markdown",
   "metadata": {
    "heading_collapsed": true
   },
   "source": [
    "### Looking at the data"
   ]
  },
  {
   "cell_type": "code",
   "execution_count": 4,
   "metadata": {
    "hidden": true
   },
   "outputs": [
    {
     "name": "stdout",
     "output_type": "stream",
     "text": [
      "['val-color', 'train_target.zip', 'sample_submission.zip', 'boneage-validation-dataset-2', 'boneage-validation-dataset-1', 'models', 'submission-rand.csv', 'document.txt', 'boneage-validation-dataset-2.zip', 'tmp', 'train.csv', 'boneage-validation-dataset-1.zip', 'boneage-training-dataset.zip', 'training-color', 'gender-val.csv', 'sample_submission', 'boneage-training-dataset', 'train2.csv']\n"
     ]
    }
   ],
   "source": [
    "from os import listdir\n",
    "from os.path import join\n",
    "print(listdir(path))\n",
    "#print(listdir(join(path, 'boneage-training-dataset')))"
   ]
  },
  {
   "cell_type": "code",
   "execution_count": 5,
   "metadata": {
    "hidden": true
   },
   "outputs": [
    {
     "data": {
      "text/plain": [
       "<matplotlib.image.AxesImage at 0x7f4bab9600b8>"
      ]
     },
     "execution_count": 5,
     "metadata": {},
     "output_type": "execute_result"
    },
    {
     "data": {
      "image/png": "[encoded data removed]",
      "text/plain": [
       "<matplotlib.figure.Figure at 0x7f4bab996b38>"
      ]
     },
     "metadata": {},
     "output_type": "display_data"
    }
   ],
   "source": [
    "onebone = join(path, 'boneage-training-dataset/3370.png')\n",
    "img = mpimg.imread(onebone)\n",
    "plt.imshow(img, cmap='gray')"
   ]
  },
  {
   "cell_type": "code",
   "execution_count": 6,
   "metadata": {
    "hidden": true
   },
   "outputs": [
    {
     "data": {
      "text/plain": [
       "(876, 793)"
      ]
     },
     "execution_count": 6,
     "metadata": {},
     "output_type": "execute_result"
    }
   ],
   "source": [
    "img.shape"
   ]
  },
  {
   "cell_type": "markdown",
   "metadata": {
    "heading_collapsed": true
   },
   "source": [
    "### Export images from B&W to color"
   ]
  },
  {
   "cell_type": "code",
   "execution_count": null,
   "metadata": {
    "collapsed": true,
    "hidden": true
   },
   "outputs": [],
   "source": [
    "import cv2"
   ]
  },
  {
   "cell_type": "code",
   "execution_count": null,
   "metadata": {
    "collapsed": true,
    "hidden": true
   },
   "outputs": [],
   "source": [
    "img = mpimg.imread(onebone)\n",
    "color = cv2.cvtColor(img, cv2.COLOR_GRAY2BGR)\n",
    "#im = PIL.Image.open(onebone).convert('RGB')\n",
    "color.shape"
   ]
  },
  {
   "cell_type": "code",
   "execution_count": 24,
   "metadata": {
    "collapsed": true,
    "hidden": true
   },
   "outputs": [],
   "source": [
    "# Don't run this again\n",
    "import scipy\n",
    "color_path = \"/data/yinterian/bone_age/training-color/\"\n",
    "bw_path = join(path, 'boneage-training-dataset')\n",
    "def from_bw2color(bw_path, color_path):\n",
    "    files = listdir(bw_path)\n",
    "    for f in files:\n",
    "        new_path = join(color_path, f)\n",
    "        bw_f = join(bw_path, f)\n",
    "        img = mpimg.imread(bw_f)\n",
    "        color_im = cv2.cvtColor(img, cv2.COLOR_GRAY2BGR)\n",
    "        scipy.misc.imsave(new_path, color_im) "
   ]
  },
  {
   "cell_type": "code",
   "execution_count": null,
   "metadata": {
    "collapsed": true,
    "hidden": true
   },
   "outputs": [],
   "source": [
    "#from_bw2color(bw_path, color_path)\n",
    "bw_val1 = join(path, 'boneage-validation-dataset-1')\n",
    "bw_val2 = join(path, 'boneage-validation-dataset-2')\n",
    "color_val = join(path, 'val-color')\n",
    "from_bw2color(bw_val1, color_val)"
   ]
  },
  {
   "cell_type": "code",
   "execution_count": null,
   "metadata": {
    "collapsed": true,
    "hidden": true
   },
   "outputs": [],
   "source": [
    "import scipy\n",
    "f = '5914.png'\n",
    "new_path = join(color_path, f2)\n",
    "bw_f = join(bw_path, f)\n",
    "img = mpimg.imread(bw_f)\n",
    "scipy.misc.imsave\n",
    "color_im = cv2.cvtColor(img, cv2.COLOR_GRAY2BGR)\n",
    "#scipy.misc.imsave(new_path, color_im) "
   ]
  },
  {
   "cell_type": "code",
   "execution_count": null,
   "metadata": {
    "collapsed": true,
    "hidden": true
   },
   "outputs": [],
   "source": [
    "color_im.shape"
   ]
  },
  {
   "cell_type": "code",
   "execution_count": null,
   "metadata": {
    "collapsed": true,
    "hidden": true
   },
   "outputs": [],
   "source": [
    "plt.imshow(color_im)"
   ]
  },
  {
   "cell_type": "code",
   "execution_count": null,
   "metadata": {
    "collapsed": true,
    "hidden": true
   },
   "outputs": [],
   "source": [
    "onebone = join(path, 'training-color/5914.png')\n",
    "img = mpimg.imread(onebone)\n",
    "plt.imshow(img)"
   ]
  },
  {
   "cell_type": "code",
   "execution_count": null,
   "metadata": {
    "collapsed": true,
    "hidden": true
   },
   "outputs": [],
   "source": [
    "img.shape"
   ]
  },
  {
   "cell_type": "markdown",
   "metadata": {},
   "source": [
    "### Dataset definition"
   ]
  },
  {
   "cell_type": "code",
   "execution_count": 4,
   "metadata": {
    "collapsed": true
   },
   "outputs": [],
   "source": [
    "bs=64; sz=350\n",
    "f_model = resnet34\n",
    "path = \"/data/yinterian/bone_age/\"\n",
    "img_folder = \"training-color\"\n",
    "csv_fname = os.path.join(path, \"train2.csv\")"
   ]
  },
  {
   "cell_type": "code",
   "execution_count": 5,
   "metadata": {},
   "outputs": [
    {
     "data": {
      "text/plain": [
       "array([6067,  466, 5556, ..., 9525, 2740,  810])"
      ]
     },
     "execution_count": 5,
     "metadata": {},
     "output_type": "execute_result"
    }
   ],
   "source": [
    "# these are the validation indices\n",
    "seed = 3\n",
    "np.random.seed(seed)\n",
    "n = 12611\n",
    "m = int(n*0.2)\n",
    "val_idxs = np.random.choice(n, m, replace=False)\n",
    "val_idxs"
   ]
  },
  {
   "cell_type": "code",
   "execution_count": 6,
   "metadata": {},
   "outputs": [
    {
     "name": "stdout",
     "output_type": "stream",
     "text": [
      "100%|██████████| 158/158 [03:00<00:00,  1.21it/s]\n",
      "100%|██████████| 40/40 [00:46<00:00,  1.43it/s]\n",
      "100%|██████████| 23/23 [00:26<00:00,  1.17s/it]\n"
     ]
    }
   ],
   "source": [
    "# transforms_side_on\n",
    "tfms = tfms_from_model(f_model, sz, aug_tfms=transforms_basic,\n",
    "                       max_zoom=1.05)\n",
    "data = ImageClassifierData.from_csv(path, img_folder, csv_fname, bs, tfms, val_idxs, suffix=\".png\",\n",
    "                            test_name=\"val-color\", continuous=True)\n",
    "learn = ConvLearner.pretrained(f_model, data, ps=[0.2, 0.4], precompute=True)"
   ]
  },
  {
   "cell_type": "code",
   "execution_count": 7,
   "metadata": {},
   "outputs": [
    {
     "data": {
      "application/vnd.jupyter.widget-view+json": {
       "model_id": "da8807c16d5d40a18365849363e962cb"
      }
     },
     "metadata": {},
     "output_type": "display_data"
    },
    {
     "name": "stdout",
     "output_type": "stream",
     "text": [
      " 88%|████████▊ | 139/158 [00:00<00:01, 10.77it/s, loss=115]\n",
      "                                                           \r"
     ]
    }
   ],
   "source": [
    "lrf=learn.lr_find()"
   ]
  },
  {
   "cell_type": "code",
   "execution_count": 8,
   "metadata": {},
   "outputs": [
    {
     "data": {
      "image/png": "[encoded data removed]",
      "text/plain": [
       "<matplotlib.figure.Figure at 0x7f7a68be45f8>"
      ]
     },
     "metadata": {},
     "output_type": "display_data"
    }
   ],
   "source": [
    "learn.sched.plot()"
   ]
  },
  {
   "cell_type": "code",
   "execution_count": 9,
   "metadata": {},
   "outputs": [
    {
     "data": {
      "application/vnd.jupyter.widget-view+json": {
       "model_id": "50c60103044546c582888e40656c1faa"
      }
     },
     "metadata": {},
     "output_type": "display_data"
    },
    {
     "name": "stdout",
     "output_type": "stream",
     "text": [
      "[  0.      22.4967  18.9444]                                \n",
      "[  1.      20.708   18.7965]                                \n",
      "[  2.      19.4658  15.1048]                                \n",
      "[  3.      19.2165  16.6075]                                \n",
      "\n"
     ]
    }
   ],
   "source": [
    "learn.fit(1e-1, 4)"
   ]
  },
  {
   "cell_type": "code",
   "execution_count": 10,
   "metadata": {
    "collapsed": true
   },
   "outputs": [],
   "source": [
    "lrs=np.array([1e-4,1e-3,1e-2])\n",
    "learn.precompute=False"
   ]
  },
  {
   "cell_type": "code",
   "execution_count": 11,
   "metadata": {},
   "outputs": [
    {
     "data": {
      "application/vnd.jupyter.widget-view+json": {
       "model_id": "ee4d45e989254210894b0d12fdb92db0"
      }
     },
     "metadata": {},
     "output_type": "display_data"
    },
    {
     "name": "stdout",
     "output_type": "stream",
     "text": [
      "[  0.      17.3259  14.9275]                                \n",
      "[  1.      19.8899  15.7767]                                \n",
      "[  2.      17.1385  14.3747]                                \n",
      "[  3.      19.1252  15.2959]                                \n",
      "[  4.      18.8941  18.3366]                                \n",
      "[  5.      16.8868  14.3523]                                \n",
      "[  6.      16.3394  14.3293]                                \n",
      "\n"
     ]
    }
   ],
   "source": [
    "learn.fit(1e-1, 3, cycle_len=1, cycle_mult=2)"
   ]
  },
  {
   "cell_type": "code",
   "execution_count": 68,
   "metadata": {},
   "outputs": [
    {
     "data": {
      "image/png": "[encoded data removed]",
      "text/plain": [
       "<matplotlib.figure.Figure at 0x7f4baae89320>"
      ]
     },
     "metadata": {},
     "output_type": "display_data"
    }
   ],
   "source": [
    "learn.sched.plot_lr()"
   ]
  },
  {
   "cell_type": "code",
   "execution_count": 69,
   "metadata": {
    "collapsed": true
   },
   "outputs": [],
   "source": [
    "exp = \"exp1\"\n",
    "model_name = '{}_{}_fc_s{}'.format(exp, sz, seed)\n",
    "learn.save(model_name)"
   ]
  },
  {
   "cell_type": "code",
   "execution_count": 72,
   "metadata": {
    "collapsed": true
   },
   "outputs": [],
   "source": [
    "exp = \"exp1\"\n",
    "model_name = '{}_{}_fc_s{}'.format(exp, sz, seed)\n",
    "learn.load(model_name)"
   ]
  },
  {
   "cell_type": "code",
   "execution_count": 73,
   "metadata": {},
   "outputs": [
    {
     "data": {
      "application/vnd.jupyter.widget-view+json": {
       "model_id": "3bb228ba545940d599929287b9d3a7c4"
      }
     },
     "metadata": {},
     "output_type": "display_data"
    },
    {
     "name": "stdout",
     "output_type": "stream",
     "text": [
      "\n",
      "\n",
      "\n",
      "\n",
      "\n",
      "  0%|          | 0/158 [00:00<?, ?it/s]\u001b[A\n",
      "\n",
      "\n",
      "\n",
      "\n",
      "\n",
      "  1%|          | 1/158 [00:07<19:07,  7.31s/it, loss=18.7]\u001b[A\n",
      "  1%|▏         | 2/158 [00:07<13:44,  5.29s/it, loss=18.1]\u001b[A\n",
      "  2%|▏         | 3/158 [00:08<09:56,  3.85s/it, loss=19.1]\u001b[A\n",
      "  3%|▎         | 4/158 [00:08<07:17,  2.84s/it, loss=20.6]\u001b[A\n",
      "  3%|▎         | 5/158 [00:14<09:11,  3.61s/it, loss=21.6]\u001b[A\n",
      "  4%|▍         | 6/158 [00:14<06:45,  2.67s/it, loss=21.7]\u001b[A\n",
      "  4%|▍         | 7/158 [00:15<05:03,  2.01s/it, loss=21.2]\u001b[A\n",
      "  5%|▌         | 8/158 [00:15<03:52,  1.55s/it, loss=21.4]\u001b[A\n",
      "  6%|▌         | 9/158 [00:19<05:38,  2.27s/it, loss=21]  \u001b[A\n",
      "  6%|▋         | 10/158 [00:20<04:17,  1.74s/it, loss=21.4]\u001b[A\n",
      "  7%|▋         | 11/158 [00:20<03:20,  1.36s/it, loss=21.7]\u001b[A\n",
      "  8%|▊         | 12/158 [00:21<02:40,  1.10s/it, loss=21.9]\u001b[A\n",
      "  8%|▊         | 13/158 [00:24<04:26,  1.83s/it, loss=21.7]\u001b[A\n",
      "  9%|▉         | 14/158 [00:25<03:25,  1.43s/it, loss=22]  \u001b[A\n",
      "  9%|▉         | 15/158 [00:25<02:43,  1.14s/it, loss=22]\u001b[A\n",
      " 10%|█         | 16/158 [00:26<02:14,  1.06it/s, loss=21.9]\u001b[A\n",
      " 11%|█         | 17/158 [00:30<04:22,  1.86s/it, loss=21.8]\u001b[A\n",
      " 11%|█▏        | 18/158 [00:30<03:22,  1.45s/it, loss=21.7]\u001b[A\n",
      " 12%|█▏        | 19/158 [00:31<02:43,  1.17s/it, loss=21.7]\u001b[A\n",
      " 13%|█▎        | 20/158 [00:31<02:13,  1.04it/s, loss=21.6]\u001b[A\n",
      " 13%|█▎        | 21/158 [00:35<04:11,  1.83s/it, loss=21.5]\u001b[A\n",
      " 14%|█▍        | 22/158 [00:35<03:14,  1.43s/it, loss=21.5]\u001b[A\n",
      " 15%|█▍        | 23/158 [00:36<02:35,  1.15s/it, loss=21.6]\u001b[A\n",
      " 15%|█▌        | 24/158 [00:36<02:07,  1.05it/s, loss=21.6]\u001b[A\n",
      " 16%|█▌        | 25/158 [00:40<04:11,  1.89s/it, loss=21.6]\u001b[A\n",
      " 16%|█▋        | 26/158 [00:41<03:13,  1.47s/it, loss=21.5]\u001b[A\n",
      " 17%|█▋        | 27/158 [00:41<02:33,  1.17s/it, loss=21.4]\u001b[A\n",
      " 18%|█▊        | 28/158 [00:42<02:05,  1.04it/s, loss=21.4]\u001b[A\n",
      " 18%|█▊        | 29/158 [00:45<03:15,  1.52s/it, loss=21.3]\u001b[A\n",
      " 19%|█▉        | 30/158 [00:45<02:40,  1.25s/it, loss=21.3]\u001b[A\n",
      " 20%|█▉        | 31/158 [00:46<02:29,  1.17s/it, loss=21.1]\u001b[A\n",
      " 20%|██        | 32/158 [00:47<02:01,  1.04it/s, loss=21]  \u001b[A\n",
      " 21%|██        | 33/158 [00:50<03:21,  1.61s/it, loss=20.8]\u001b[A\n",
      " 22%|██▏       | 34/158 [00:51<02:44,  1.33s/it, loss=20.8]\u001b[A\n",
      " 22%|██▏       | 35/158 [00:52<02:34,  1.25s/it, loss=20.6]\u001b[A\n",
      " 23%|██▎       | 36/158 [00:52<02:04,  1.02s/it, loss=20.5]\u001b[A\n",
      " 23%|██▎       | 37/158 [00:55<02:57,  1.47s/it, loss=20.4]\u001b[A\n",
      " 24%|██▍       | 38/158 [00:56<02:35,  1.30s/it, loss=20.3]\u001b[A\n",
      " 25%|██▍       | 39/158 [00:57<02:35,  1.31s/it, loss=20.2]\u001b[A\n",
      " 25%|██▌       | 40/158 [00:57<02:04,  1.06s/it, loss=20.1]\u001b[A\n",
      " 26%|██▌       | 41/158 [01:00<03:05,  1.58s/it, loss=20]  \u001b[A\n",
      " 27%|██▋       | 42/158 [01:01<02:43,  1.41s/it, loss=19.9]\u001b[A\n",
      " 27%|██▋       | 43/158 [01:02<02:29,  1.30s/it, loss=19.8]\u001b[A\n",
      " 28%|██▊       | 44/158 [01:03<02:00,  1.05s/it, loss=19.9]\u001b[A\n",
      " 28%|██▊       | 45/158 [01:06<02:59,  1.59s/it, loss=19.8]\u001b[A\n",
      " 29%|██▉       | 46/158 [01:06<02:25,  1.30s/it, loss=19.7]\u001b[A\n",
      " 30%|██▉       | 47/158 [01:08<02:28,  1.34s/it, loss=19.6]\u001b[A\n",
      " 30%|███       | 48/158 [01:08<01:58,  1.08s/it, loss=19.5]\u001b[A\n",
      " 31%|███       | 49/158 [01:11<02:49,  1.56s/it, loss=19.4]\u001b[A\n",
      " 32%|███▏      | 50/158 [01:12<02:22,  1.32s/it, loss=19.4]\u001b[A\n",
      " 32%|███▏      | 51/158 [01:12<02:05,  1.17s/it, loss=19.3]\u001b[A\n",
      " 33%|███▎      | 52/158 [01:13<01:59,  1.13s/it, loss=19.2]\u001b[A\n",
      " 34%|███▎      | 53/158 [01:16<02:35,  1.48s/it, loss=19.2]\u001b[A\n",
      " 34%|███▍      | 54/158 [01:17<02:26,  1.40s/it, loss=19.2]\u001b[A\n",
      " 35%|███▍      | 55/158 [01:18<02:10,  1.26s/it, loss=19.1]\u001b[A\n",
      " 35%|███▌      | 56/158 [01:19<01:53,  1.12s/it, loss=19.1]\u001b[A\n",
      " 36%|███▌      | 57/158 [01:21<02:27,  1.46s/it, loss=18.9]\u001b[A\n",
      " 37%|███▋      | 58/158 [01:22<02:24,  1.44s/it, loss=18.8]\u001b[A\n",
      " 37%|███▋      | 59/158 [01:23<02:11,  1.33s/it, loss=18.7]\u001b[A\n",
      " 38%|███▊      | 60/158 [01:24<01:45,  1.08s/it, loss=18.6]\u001b[A\n",
      " 39%|███▊      | 61/158 [01:27<02:36,  1.61s/it, loss=18.6]\u001b[A\n",
      " 39%|███▉      | 62/158 [01:28<02:24,  1.50s/it, loss=18.5]\u001b[A\n",
      " 40%|███▉      | 63/158 [01:29<02:17,  1.45s/it, loss=18.5]\u001b[A\n",
      " 41%|████      | 64/158 [01:30<01:48,  1.16s/it, loss=18.4]\u001b[A\n",
      " 41%|████      | 65/158 [01:32<02:12,  1.43s/it, loss=18.3]\u001b[A\n",
      " 42%|████▏     | 66/158 [01:33<02:08,  1.40s/it, loss=18.2]\u001b[A\n",
      " 42%|████▏     | 67/158 [01:34<01:49,  1.20s/it, loss=18.3]\u001b[A\n",
      " 43%|████▎     | 68/158 [01:35<01:33,  1.04s/it, loss=18.3]\u001b[A\n",
      " 44%|████▎     | 69/158 [01:37<02:08,  1.44s/it, loss=18.2]\u001b[A\n",
      " 44%|████▍     | 70/158 [01:38<01:58,  1.35s/it, loss=18.2]\u001b[A\n",
      " 45%|████▍     | 71/158 [01:39<01:35,  1.09s/it, loss=18.1]\u001b[A\n",
      " 46%|████▌     | 72/158 [01:40<01:30,  1.06s/it, loss=18]  \u001b[A\n",
      " 46%|████▌     | 73/158 [01:42<02:06,  1.49s/it, loss=17.9]\u001b[A\n",
      " 47%|████▋     | 74/158 [01:44<02:14,  1.60s/it, loss=17.9]\u001b[A\n",
      " 47%|████▋     | 75/158 [01:44<01:44,  1.26s/it, loss=17.9]\u001b[A\n",
      " 48%|████▊     | 76/158 [01:45<01:24,  1.03s/it, loss=17.9]\u001b[A\n",
      " 49%|████▊     | 77/158 [01:47<01:54,  1.41s/it, loss=17.9]\u001b[A\n",
      " 49%|████▉     | 78/158 [01:49<01:58,  1.48s/it, loss=17.8]\u001b[A\n",
      " 50%|█████     | 79/158 [01:49<01:37,  1.23s/it, loss=17.7]\u001b[A\n",
      " 51%|█████     | 80/158 [01:50<01:21,  1.04s/it, loss=17.7]\u001b[A\n",
      " 51%|█████▏    | 81/158 [01:52<01:50,  1.43s/it, loss=17.6]\u001b[A\n",
      " 52%|█████▏    | 82/158 [01:54<01:51,  1.47s/it, loss=17.6]\u001b[A\n",
      " 53%|█████▎    | 83/158 [01:55<01:34,  1.27s/it, loss=17.7]\u001b[A\n",
      " 53%|█████▎    | 84/158 [01:55<01:20,  1.09s/it, loss=17.7]\u001b[A\n",
      " 54%|█████▍    | 85/158 [01:58<01:50,  1.51s/it, loss=17.7]\u001b[A\n",
      " 54%|█████▍    | 86/158 [01:59<01:47,  1.50s/it, loss=17.6]\u001b[A\n",
      " 55%|█████▌    | 87/158 [02:00<01:25,  1.21s/it, loss=17.6]\u001b[A\n",
      " 56%|█████▌    | 88/158 [02:01<01:12,  1.03s/it, loss=17.5]\u001b[A\n",
      " 56%|█████▋    | 89/158 [02:03<01:38,  1.43s/it, loss=17.5]\u001b[A\n",
      " 57%|█████▋    | 90/158 [02:04<01:36,  1.42s/it, loss=17.5]\u001b[A\n",
      " 58%|█████▊    | 91/158 [02:05<01:28,  1.33s/it, loss=17.5]\u001b[A\n",
      " 58%|█████▊    | 92/158 [02:06<01:10,  1.07s/it, loss=17.5]\u001b[A\n",
      " 59%|█████▉    | 93/158 [02:09<01:42,  1.58s/it, loss=17.7]\u001b[A\n",
      " 59%|█████▉    | 94/158 [02:09<01:23,  1.30s/it, loss=17.7]\u001b[A\n",
      " 60%|██████    | 95/158 [02:11<01:26,  1.37s/it, loss=17.6]\u001b[A\n",
      " 61%|██████    | 96/158 [02:11<01:08,  1.10s/it, loss=17.5]\u001b[A\n",
      " 61%|██████▏   | 97/158 [02:14<01:36,  1.59s/it, loss=17.5]\u001b[A\n",
      " 62%|██████▏   | 98/158 [02:15<01:15,  1.26s/it, loss=17.5]\u001b[A\n",
      " 63%|██████▎   | 99/158 [02:16<01:17,  1.32s/it, loss=17.6]\u001b[A\n",
      " 63%|██████▎   | 100/158 [02:17<01:03,  1.09s/it, loss=17.6]\u001b[A\n",
      " 64%|██████▍   | 101/158 [02:19<01:30,  1.59s/it, loss=17.7]\u001b[A\n",
      " 65%|██████▍   | 102/158 [02:20<01:14,  1.34s/it, loss=17.7]\u001b[A\n",
      " 65%|██████▌   | 103/158 [02:21<01:13,  1.34s/it, loss=17.7]\u001b[A\n",
      " 66%|██████▌   | 104/158 [02:22<00:58,  1.09s/it, loss=17.7]\u001b[A\n",
      " 66%|██████▋   | 105/158 [02:25<01:24,  1.60s/it, loss=17.8]\u001b[A\n",
      " 67%|██████▋   | 106/158 [02:26<01:16,  1.47s/it, loss=17.8]\u001b[A\n",
      " 68%|██████▊   | 107/158 [02:26<01:02,  1.22s/it, loss=17.7]\u001b[A\n",
      " 68%|██████▊   | 108/158 [02:27<00:50,  1.01s/it, loss=17.6]\u001b[A\n",
      " 69%|██████▉   | 109/158 [02:30<01:23,  1.70s/it, loss=17.7]\u001b[A\n",
      " 70%|██████▉   | 110/158 [02:31<01:04,  1.34s/it, loss=17.7]\u001b[A\n",
      " 70%|███████   | 111/158 [02:32<00:59,  1.26s/it, loss=17.8]\u001b[A\n",
      " 71%|███████   | 112/158 [02:32<00:47,  1.03s/it, loss=17.8]\u001b[A\n",
      " 72%|███████▏  | 113/158 [02:36<01:15,  1.69s/it, loss=17.9]\u001b[A\n",
      " 72%|███████▏  | 114/158 [02:36<01:00,  1.37s/it, loss=17.9]\u001b[A\n",
      " 73%|███████▎  | 115/158 [02:37<00:51,  1.20s/it, loss=18]  \u001b[A\n",
      " 73%|███████▎  | 116/158 [02:38<00:41,  1.01it/s, loss=18.1]\u001b[A\n",
      " 74%|███████▍  | 117/158 [02:41<01:14,  1.82s/it, loss=18]  \u001b[A\n",
      " 75%|███████▍  | 118/158 [02:42<00:56,  1.42s/it, loss=18.1]\u001b[A\n",
      " 75%|███████▌  | 119/158 [02:43<00:47,  1.22s/it, loss=18.1]\u001b[A\n",
      " 76%|███████▌  | 120/158 [02:43<00:37,  1.00it/s, loss=18.2]\u001b[A\n",
      " 77%|███████▋  | 121/158 [02:46<01:04,  1.74s/it, loss=18.2]\u001b[A\n",
      " 77%|███████▋  | 122/158 [02:47<00:48,  1.36s/it, loss=18.5]\u001b[A\n",
      " 78%|███████▊  | 123/158 [02:48<00:42,  1.22s/it, loss=18.8]\u001b[A\n",
      " 78%|███████▊  | 124/158 [02:48<00:34,  1.01s/it, loss=19]  \u001b[A\n",
      " 79%|███████▉  | 125/158 [02:51<00:53,  1.63s/it, loss=18.9]\u001b[A\n",
      " 80%|███████▉  | 126/158 [02:52<00:41,  1.29s/it, loss=19.1]\u001b[A\n",
      " 80%|████████  | 127/158 [02:53<00:39,  1.28s/it, loss=19.3]\u001b[A\n",
      " 81%|████████  | 128/158 [02:54<00:31,  1.05s/it, loss=19.5]\u001b[A\n",
      " 82%|████████▏ | 129/158 [02:56<00:44,  1.55s/it, loss=19.7]\u001b[A\n",
      " 82%|████████▏ | 130/158 [02:57<00:37,  1.32s/it, loss=19.8]\u001b[A\n",
      " 83%|████████▎ | 131/158 [02:58<00:32,  1.22s/it, loss=19.9]\u001b[A\n",
      " 84%|████████▎ | 132/158 [02:59<00:27,  1.06s/it, loss=20.3]\u001b[A\n",
      " 84%|████████▍ | 133/158 [03:02<00:40,  1.64s/it, loss=20.9]\u001b[A\n",
      " 85%|████████▍ | 134/158 [03:03<00:32,  1.37s/it, loss=22.2]\u001b[A\n",
      " 85%|████████▌ | 135/158 [03:04<00:30,  1.32s/it, loss=22.8]\u001b[A\n",
      " 86%|████████▌ | 136/158 [03:04<00:23,  1.07s/it, loss=25.8]\u001b[A\n",
      " 87%|████████▋ | 137/158 [03:07<00:33,  1.61s/it, loss=30.2]\u001b[A\n",
      " 87%|████████▋ | 138/158 [03:08<00:26,  1.32s/it, loss=31.1]\u001b[A\n",
      " 88%|████████▊ | 139/158 [03:09<00:24,  1.29s/it, loss=33]  \u001b[A\n",
      " 89%|████████▊ | 140/158 [03:10<00:18,  1.05s/it, loss=38.1]\u001b[A\n",
      " 89%|████████▉ | 141/158 [03:12<00:25,  1.49s/it, loss=46.7]\u001b[A\n",
      "                                                            \u001b[A"
     ]
    }
   ],
   "source": [
    "lrs=np.array([1e-4,1e-3,1e-2])\n",
    "learn.freeze_to(6)\n",
    "learn.lr_find(lrs/1e3)"
   ]
  },
  {
   "cell_type": "code",
   "execution_count": 74,
   "metadata": {},
   "outputs": [
    {
     "data": {
      "image/png": "[encoded data removed]",
      "text/plain": [
       "<matplotlib.figure.Figure at 0x7f4baabe9eb8>"
      ]
     },
     "metadata": {},
     "output_type": "display_data"
    }
   ],
   "source": [
    "learn.sched.plot()"
   ]
  },
  {
   "cell_type": "code",
   "execution_count": 75,
   "metadata": {
    "scrolled": true
   },
   "outputs": [
    {
     "data": {
      "application/vnd.jupyter.widget-view+json": {
       "model_id": "5b9d03bfc0c34da997de0deebb31f490"
      }
     },
     "metadata": {},
     "output_type": "display_data"
    },
    {
     "name": "stdout",
     "output_type": "stream",
     "text": [
      "\n",
      "                                       \n",
      "                                       \n",
      "                                       \n",
      "                                       \n",
      "  0%|          | 0/158 [00:00<?, ?it/s]\u001b[A\n",
      "                                       \n",
      "                                       \n",
      "                                       \n",
      "                                       \n",
      "[  0.      13.8483  12.0142]                                \n",
      "[  1.      12.8875  10.3568]                                \n",
      "\n"
     ]
    }
   ],
   "source": [
    "learn.fit(lrs, 2, cycle_len=1)"
   ]
  },
  {
   "cell_type": "code",
   "execution_count": 76,
   "metadata": {
    "collapsed": true
   },
   "outputs": [],
   "source": [
    "exp = \"exp1\"\n",
    "model_name_6 = '{}_{}_fc_s{}_6'.format(exp, sz, seed)\n",
    "learn.save(model_name_6)"
   ]
  },
  {
   "cell_type": "code",
   "execution_count": 77,
   "metadata": {},
   "outputs": [
    {
     "data": {
      "application/vnd.jupyter.widget-view+json": {
       "model_id": "8a34ff63c4e0491c93edaa9293ce974b"
      }
     },
     "metadata": {},
     "output_type": "display_data"
    },
    {
     "name": "stdout",
     "output_type": "stream",
     "text": [
      " 88%|████████▊ | 139/158 [03:10<00:21,  1.14s/it, loss=40.7]"
     ]
    },
    {
     "data": {
      "image/png": "[encoded data removed]",
      "text/plain": [
       "<matplotlib.figure.Figure at 0x7f4baad86d68>"
      ]
     },
     "metadata": {},
     "output_type": "display_data"
    }
   ],
   "source": [
    "lrs=np.array([1e-4,1e-3,1e-2])\n",
    "learn.freeze_to(5)\n",
    "learn.lr_find(lrs/1e3)\n",
    "learn.sched.plot()"
   ]
  },
  {
   "cell_type": "code",
   "execution_count": 78,
   "metadata": {},
   "outputs": [
    {
     "data": {
      "application/vnd.jupyter.widget-view+json": {
       "model_id": "1f3732e1022f4207a6847b2eb41c2668"
      }
     },
     "metadata": {},
     "output_type": "display_data"
    },
    {
     "name": "stdout",
     "output_type": "stream",
     "text": [
      "                                                            \n",
      "                                                            \n",
      "                                                            \n",
      "\n",
      "                                                            \n",
      "                                                            \n",
      "                                                            \n",
      "                                                            \n",
      "\n",
      "                                                            \n",
      "[  0.      11.6236  10.4544]                                \n",
      "[  1.      11.9374  10.059 ]                                \n",
      "\n"
     ]
    }
   ],
   "source": [
    "lrs=np.array([1e-5,1e-4,1e-3])\n",
    "learn.fit(lrs, 2, cycle_len=1)"
   ]
  },
  {
   "cell_type": "code",
   "execution_count": 79,
   "metadata": {
    "collapsed": true
   },
   "outputs": [],
   "source": [
    "exp = \"exp1\"\n",
    "model_name_5 = '{}_{}_fc_s{}_5'.format(exp, sz, seed)\n",
    "learn.save(model_name_5)"
   ]
  },
  {
   "cell_type": "code",
   "execution_count": 11,
   "metadata": {
    "collapsed": true
   },
   "outputs": [],
   "source": [
    "exp = \"exp1\"\n",
    "model_name_5 = '{}_{}_fc_s{}_5'.format(exp, sz, seed)\n",
    "learn.load(model_name_5)"
   ]
  },
  {
   "cell_type": "code",
   "execution_count": 12,
   "metadata": {},
   "outputs": [
    {
     "data": {
      "application/vnd.jupyter.widget-view+json": {
       "model_id": "f7d3aa236d414e99a025f7789821281a"
      }
     },
     "metadata": {},
     "output_type": "display_data"
    },
    {
     "name": "stdout",
     "output_type": "stream",
     "text": [
      " 91%|█████████ | 143/158 [03:15<00:20,  1.36s/it, loss=37]  "
     ]
    },
    {
     "data": {
      "image/png": "[encoded data removed]",
      "text/plain": [
       "<matplotlib.figure.Figure at 0x7f11938010b8>"
      ]
     },
     "metadata": {},
     "output_type": "display_data"
    }
   ],
   "source": [
    "lrs=np.array([1e-5,1e-4,1e-3])\n",
    "learn.freeze_to(4)\n",
    "learn.lr_find(lrs/1e3)\n",
    "learn.sched.plot()"
   ]
  },
  {
   "cell_type": "code",
   "execution_count": 13,
   "metadata": {},
   "outputs": [
    {
     "data": {
      "application/vnd.jupyter.widget-view+json": {
       "model_id": "f100093f172c4986a4cbd564259832d8"
      }
     },
     "metadata": {},
     "output_type": "display_data"
    },
    {
     "name": "stdout",
     "output_type": "stream",
     "text": [
      "                                                          \n",
      "                                                          \n",
      "\n",
      "\n",
      "                                                          \n",
      "                                                          \n",
      "                                                          \n",
      "\n",
      "                                                          \n",
      "                                                          \n",
      "[  0.      11.9795  10.699 ]                                \n",
      "[  1.      12.0778  10.1953]                                \n",
      "\n"
     ]
    }
   ],
   "source": [
    "learn.fit(lrs, 2, cycle_len=1)"
   ]
  },
  {
   "cell_type": "code",
   "execution_count": 14,
   "metadata": {
    "collapsed": true
   },
   "outputs": [],
   "source": [
    "model_name_4 = '{}_fc{}_4'.format(sz, seed)\n",
    "learn.save(model_name_4)"
   ]
  },
  {
   "cell_type": "code",
   "execution_count": 16,
   "metadata": {},
   "outputs": [
    {
     "data": {
      "application/vnd.jupyter.widget-view+json": {
       "model_id": "fc427062c4a3425ea99c471c6e64d5c1"
      }
     },
     "metadata": {},
     "output_type": "display_data"
    },
    {
     "name": "stdout",
     "output_type": "stream",
     "text": [
      "                                                            \n",
      "                                                            \n",
      "\n",
      "                                                            \n",
      "\n",
      "                                                            \n",
      "                                                            \n",
      "\n",
      "                                                            \n",
      "\n",
      "                                                            A\n",
      " 91%|█████████ | 143/158 [03:16<00:19,  1.31s/it, loss=45.2]"
     ]
    },
    {
     "data": {
      "image/png": "[encoded data removed]",
      "text/plain": [
       "<matplotlib.figure.Figure at 0x7f1193baeda0>"
      ]
     },
     "metadata": {},
     "output_type": "display_data"
    }
   ],
   "source": [
    "learn.unfreeze()\n",
    "learn.lr_find(lrs/1e3)\n",
    "learn.sched.plot()"
   ]
  },
  {
   "cell_type": "code",
   "execution_count": 17,
   "metadata": {
    "collapsed": true
   },
   "outputs": [],
   "source": [
    "lr=np.array([1e-4,3e-4,1e-3])"
   ]
  },
  {
   "cell_type": "code",
   "execution_count": 18,
   "metadata": {},
   "outputs": [
    {
     "data": {
      "application/vnd.jupyter.widget-view+json": {
       "model_id": "d8286adf7fe34dfa9f83c6dab77e7b07"
      }
     },
     "metadata": {},
     "output_type": "display_data"
    },
    {
     "name": "stdout",
     "output_type": "stream",
     "text": [
      "                                                            \n",
      "                                                            \n",
      "                                                            \n",
      "\n",
      "                                                            \n",
      "                                                            \n",
      "                                                            \n",
      "                                                            \n",
      "                                                            \n",
      "\n",
      "[  0.      11.5076  12.7263]                                \n",
      "\n"
     ]
    }
   ],
   "source": [
    "learn.fit(lr, 1)"
   ]
  },
  {
   "cell_type": "code",
   "execution_count": 19,
   "metadata": {},
   "outputs": [
    {
     "data": {
      "application/vnd.jupyter.widget-view+json": {
       "model_id": "ae640a1e172e416d8e5f727cf9733ce4"
      }
     },
     "metadata": {},
     "output_type": "display_data"
    },
    {
     "name": "stdout",
     "output_type": "stream",
     "text": [
      "[  0.      10.9848   9.5126]                                \n",
      "[  1.      11.1897  10.3642]                                \n",
      "[  2.      11.3022   9.3238]                                \n",
      "[  3.      10.9069   9.764 ]                                \n",
      "[  4.      10.5235   9.1758]                                \n",
      "[  5.      10.6499   9.1157]                                \n",
      "[  6.      10.5848   9.0447]                                \n",
      "\n"
     ]
    }
   ],
   "source": [
    "learn.fit(lr/3, 3, cycle_len=1, cycle_mult=2)"
   ]
  },
  {
   "cell_type": "code",
   "execution_count": 20,
   "metadata": {
    "collapsed": true
   },
   "outputs": [],
   "source": [
    "model_name_all = '{}_fc{}_all'.format(sz, seed)\n",
    "learn.save(model_name_all)"
   ]
  },
  {
   "cell_type": "code",
   "execution_count": null,
   "metadata": {
    "collapsed": true
   },
   "outputs": [],
   "source": [
    "(*learn.TTA())"
   ]
  },
  {
   "cell_type": "code",
   "execution_count": null,
   "metadata": {
    "collapsed": true
   },
   "outputs": [],
   "source": [
    "learn.TTA()"
   ]
  },
  {
   "cell_type": "markdown",
   "metadata": {},
   "source": [
    "##  Predicting "
   ]
  },
  {
   "cell_type": "code",
   "execution_count": 23,
   "metadata": {},
   "outputs": [
    {
     "data": {
      "text/plain": [
       "(1425, 1)"
      ]
     },
     "execution_count": 23,
     "metadata": {},
     "output_type": "execute_result"
    }
   ],
   "source": [
    "test_preds = learn.predict(is_test=True)\n",
    "test_preds.shape"
   ]
  },
  {
   "cell_type": "code",
   "execution_count": 62,
   "metadata": {
    "collapsed": true
   },
   "outputs": [],
   "source": [
    "test_preds_v2 = learn.TTA(is_test=True)"
   ]
  },
  {
   "cell_type": "code",
   "execution_count": 76,
   "metadata": {
    "collapsed": true
   },
   "outputs": [],
   "source": [
    "preds = test_preds_v2[0]"
   ]
  },
  {
   "cell_type": "code",
   "execution_count": 31,
   "metadata": {
    "collapsed": true
   },
   "outputs": [],
   "source": [
    "test_files = data.test_dl.dataset.fnames\n",
    "#test_files"
   ]
  },
  {
   "cell_type": "code",
   "execution_count": 27,
   "metadata": {},
   "outputs": [
    {
     "data": {
      "text/plain": [
       "134.1875"
      ]
     },
     "execution_count": 27,
     "metadata": {},
     "output_type": "execute_result"
    }
   ],
   "source": [
    "test_preds[1][0]"
   ]
  },
  {
   "cell_type": "code",
   "execution_count": 34,
   "metadata": {},
   "outputs": [
    {
     "data": {
      "text/plain": [
       "'/data/yinterian/bone_age/'"
      ]
     },
     "execution_count": 34,
     "metadata": {},
     "output_type": "execute_result"
    }
   ],
   "source": [
    "path"
   ]
  },
  {
   "cell_type": "code",
   "execution_count": 42,
   "metadata": {
    "collapsed": true
   },
   "outputs": [],
   "source": [
    "names = [f.replace(\"val-color/\", \"\").replace(\".png\", \"\") for f in test_files]"
   ]
  },
  {
   "cell_type": "code",
   "execution_count": 52,
   "metadata": {
    "collapsed": true
   },
   "outputs": [],
   "source": [
    "t = [(int(names[i]), test_preds[i][0]) for i in range(len(names))]"
   ]
  },
  {
   "cell_type": "code",
   "execution_count": 77,
   "metadata": {
    "collapsed": true
   },
   "outputs": [],
   "source": [
    "t = [(int(names[i]), preds[i][0]) for i in range(len(names))]"
   ]
  },
  {
   "cell_type": "code",
   "execution_count": 78,
   "metadata": {
    "collapsed": true
   },
   "outputs": [],
   "source": [
    "t_sortes = sorted(t, key=lambda tup: tup[0])"
   ]
  },
  {
   "cell_type": "code",
   "execution_count": 79,
   "metadata": {
    "collapsed": true
   },
   "outputs": [],
   "source": [
    "columnTitleRow = \"id,boneage\\n\"\n",
    "\n",
    "with open(f\"{path}results.csv\", \"w\") as csv:\n",
    "    csv.write(columnTitleRow)\n",
    "    for i in range(len(test_files)):\n",
    "        t = t_sortes[i]\n",
    "        row = f'{t[0]},{t[1]}\\n'\n",
    "        csv.write(row)"
   ]
  },
  {
   "cell_type": "code",
   "execution_count": null,
   "metadata": {
    "collapsed": true
   },
   "outputs": [],
   "source": []
  }
 ],
 "metadata": {
  "kernelspec": {
   "display_name": "Python 3",
   "language": "python",
   "name": "python3"
  },
  "language_info": {
   "codemirror_mode": {
    "name": "ipython",
    "version": 3
   },
   "file_extension": ".py",
   "mimetype": "text/x-python",
   "name": "python",
   "nbconvert_exporter": "python",
   "pygments_lexer": "ipython3",
   "version": "3.6.2"
  }
 },
 "nbformat": 4,
 "nbformat_minor": 2
}
