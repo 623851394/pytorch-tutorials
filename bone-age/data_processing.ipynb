{
 "cells": [
  {
   "cell_type": "code",
   "execution_count": 1,
   "metadata": {
    "collapsed": true
   },
   "outputs": [],
   "source": [
    "%reload_ext autoreload\n",
    "%autoreload 2\n",
    "%matplotlib inline"
   ]
  },
  {
   "cell_type": "code",
   "execution_count": 2,
   "metadata": {
    "collapsed": true
   },
   "outputs": [],
   "source": [
    "import scipy\n",
    "import scipy.misc\n",
    "from os import listdir\n",
    "from os.path import join\n",
    "from matplotlib import pyplot as plt\n",
    "import matplotlib.image as mpimg\n",
    "import numpy as np\n",
    "import cv2"
   ]
  },
  {
   "cell_type": "code",
   "execution_count": 3,
   "metadata": {
    "collapsed": true
   },
   "outputs": [],
   "source": [
    "path = \"/data/yinterian/bone_age/\""
   ]
  },
  {
   "cell_type": "code",
   "execution_count": 4,
   "metadata": {
    "collapsed": true
   },
   "outputs": [],
   "source": [
    "def from_bw2color(bw_path, color_path):\n",
    "    files = listdir(bw_path)\n",
    "    for f in files:\n",
    "        new_path = join(color_path, f)\n",
    "        bw_f = join(bw_path, f)\n",
    "        img = mpimg.imread(bw_f)\n",
    "        color_im = cv2.cvtColor(img, cv2.COLOR_GRAY2BGR)\n",
    "        scipy.misc.imsave(new_path, color_im) "
   ]
  },
  {
   "cell_type": "code",
   "execution_count": 5,
   "metadata": {
    "collapsed": true
   },
   "outputs": [],
   "source": [
    "# test files\n",
    "bw_test_path = join(path, 'boneage-test-dataset')\n",
    "color_test_path = join(path, 'test-color')\n",
    "from_bw2color(bw_test_path, color_test_path)"
   ]
  },
  {
   "cell_type": "code",
   "execution_count": 12,
   "metadata": {
    "collapsed": true
   },
   "outputs": [],
   "source": [
    "bw_val1 = join(path, 'boneage-validation-dataset-1')\n",
    "bw_val2 = join(path, 'boneage-validation-dataset-2')\n",
    "color_val = join(path, 'val-color')\n",
    "color_path = \"/data/yinterian/bone_age/training-color/\"\n",
    "bw_path = join(path, 'boneage-training-dataset')\n",
    "#from_bw2color(bw_val1, color_val)\n",
    "from_bw2color(bw_val2, color_val)"
   ]
  },
  {
   "cell_type": "code",
   "execution_count": null,
   "metadata": {
    "collapsed": true
   },
   "outputs": [],
   "source": []
  }
 ],
 "metadata": {
  "kernelspec": {
   "display_name": "Python 3",
   "language": "python",
   "name": "python3"
  },
  "language_info": {
   "codemirror_mode": {
    "name": "ipython",
    "version": 3
   },
   "file_extension": ".py",
   "mimetype": "text/x-python",
   "name": "python",
   "nbconvert_exporter": "python",
   "pygments_lexer": "ipython3",
   "version": "3.6.2"
  }
 },
 "nbformat": 4,
 "nbformat_minor": 2
}
