{
 "cells": [
  {
   "cell_type": "markdown",
   "metadata": {},
   "source": [
    "## How to write custom models with fast.ai"
   ]
  },
  {
   "cell_type": "markdown",
   "metadata": {},
   "source": [
    "Here is an example on how to modify [fastai](https://github.com/fastai/fastai) to use custom pretraied network. "
   ]
  },
  {
   "cell_type": "code",
   "execution_count": 4,
   "metadata": {},
   "outputs": [],
   "source": [
    "from fastai.imports import *"
   ]
  },
  {
   "cell_type": "code",
   "execution_count": 5,
   "metadata": {},
   "outputs": [],
   "source": [
    "%reload_ext autoreload\n",
    "%autoreload 2\n",
    "%matplotlib inline"
   ]
  },
  {
   "cell_type": "code",
   "execution_count": 6,
   "metadata": {},
   "outputs": [],
   "source": [
    "from fastai.transforms import *\n",
    "from fastai.conv_learner import *\n",
    "from fastai.model import *\n",
    "from fastai.dataset import *\n",
    "from fastai.sgdr import *\n",
    "from fastai.plots import *"
   ]
  },
  {
   "cell_type": "code",
   "execution_count": 7,
   "metadata": {},
   "outputs": [],
   "source": [
    "import pandas as pd\n",
    "import numpy as np\n",
    "path = '/data2/yinterian/IMRT/'\n",
    "model_path = path + \"results/\""
   ]
  },
  {
   "cell_type": "markdown",
   "metadata": {},
   "source": [
    "## Custom ConvnetBuilder "
   ]
  },
  {
   "cell_type": "markdown",
   "metadata": {},
   "source": [
    "This ConvnetBuilderVGG is similar to [ConvnetBuilder](https://github.com/fastai/fastai/blob/master/fastai/conv_learner.py). It is modifiying VGG16. The default vgg16 in fastai \"cuts\" all the fully connected layers. In this example we keep all layers but the last one. I have a very small dataset so my intention is to train the last two fully connected layer."
   ]
  },
  {
   "cell_type": "code",
   "execution_count": 40,
   "metadata": {},
   "outputs": [],
   "source": [
    "# to overide fastai vgg16 function\n",
    "from torchvision.models import vgg16\n",
    "\n",
    "# Creates a ConvnetBuilder with all pretrained layers from vgg16 but the last fully connected layer\n",
    "class ConvnetBuilderVGG():\n",
    "    \"\"\"Class representing a convolutional network.\n",
    "    Arguments:\n",
    "        c (int): size of the last layer\n",
    "        is_multi (bool): is multilabel classification\n",
    "        is_reg (bool): is a regression\n",
    "        ps (float): dropout parameter for last layer\n",
    "    \"\"\"\n",
    "\n",
    "    def __init__(self, c, is_multi, is_reg, ps=None):\n",
    "        self.c,self.is_multi,self.is_reg = c,is_multi,is_reg\n",
    "        self.ps = ps or 0.5\n",
    "        vgg = vgg16(True)\n",
    "        self.lr_cut = 30\n",
    "        layers = children(vgg.features)\n",
    "        layers += [Flatten()] + children(vgg.classifier)[:5]\n",
    "        #self.nf = 4096\n",
    "        # here top model is everything but the last layer\n",
    "        self.top_model = nn.Sequential(*layers)\n",
    "\n",
    "        fc_layers = self.create_fc_layer(4096, c, p=None)\n",
    "        self.n_fc = len(fc_layers)\n",
    "        self.fc_model = to_gpu(nn.Sequential(*fc_layers))\n",
    "        apply_init(self.fc_model, kaiming_normal)\n",
    "        self.model = to_gpu(nn.Sequential(*(layers+fc_layers)))\n",
    "\n",
    "    def create_fc_layer(self, ni, nf, p, actn=None):\n",
    "        res=[]\n",
    "        if p: res.append(nn.Dropout(p=p))\n",
    "        res.append(nn.Linear(in_features=ni, out_features=nf))\n",
    "        if actn: res.append(actn())\n",
    "        return res\n",
    "    \n",
    "    @property\n",
    "    def name(self): return \"vgg16\"\n",
    "    \n",
    "    def get_layer_groups(self, do_fc=False):\n",
    "        if do_fc: \n",
    "            m,idxs = self.fc_model,[]\n",
    "        else:     \n",
    "            m,idxs = self.model,[self.lr_cut,-self.n_fc]\n",
    "        lgs = list(split_by_idxs(children(m),idxs))\n",
    "        return lgs"
   ]
  },
  {
   "cell_type": "code",
   "execution_count": 29,
   "metadata": {},
   "outputs": [
    {
     "data": {
      "text/plain": [
       "Sequential (\n",
       "  (0): Conv2d(3, 64, kernel_size=(3, 3), stride=(1, 1), padding=(1, 1))\n",
       "  (1): ReLU (inplace)\n",
       "  (2): Conv2d(64, 64, kernel_size=(3, 3), stride=(1, 1), padding=(1, 1))\n",
       "  (3): ReLU (inplace)\n",
       "  (4): MaxPool2d (size=(2, 2), stride=(2, 2), dilation=(1, 1))\n",
       "  (5): Conv2d(64, 128, kernel_size=(3, 3), stride=(1, 1), padding=(1, 1))\n",
       "  (6): ReLU (inplace)\n",
       "  (7): Conv2d(128, 128, kernel_size=(3, 3), stride=(1, 1), padding=(1, 1))\n",
       "  (8): ReLU (inplace)\n",
       "  (9): MaxPool2d (size=(2, 2), stride=(2, 2), dilation=(1, 1))\n",
       "  (10): Conv2d(128, 256, kernel_size=(3, 3), stride=(1, 1), padding=(1, 1))\n",
       "  (11): ReLU (inplace)\n",
       "  (12): Conv2d(256, 256, kernel_size=(3, 3), stride=(1, 1), padding=(1, 1))\n",
       "  (13): ReLU (inplace)\n",
       "  (14): Conv2d(256, 256, kernel_size=(3, 3), stride=(1, 1), padding=(1, 1))\n",
       "  (15): ReLU (inplace)\n",
       "  (16): MaxPool2d (size=(2, 2), stride=(2, 2), dilation=(1, 1))\n",
       "  (17): Conv2d(256, 512, kernel_size=(3, 3), stride=(1, 1), padding=(1, 1))\n",
       "  (18): ReLU (inplace)\n",
       "  (19): Conv2d(512, 512, kernel_size=(3, 3), stride=(1, 1), padding=(1, 1))\n",
       "  (20): ReLU (inplace)\n",
       "  (21): Conv2d(512, 512, kernel_size=(3, 3), stride=(1, 1), padding=(1, 1))\n",
       "  (22): ReLU (inplace)\n",
       "  (23): MaxPool2d (size=(2, 2), stride=(2, 2), dilation=(1, 1))\n",
       "  (24): Conv2d(512, 512, kernel_size=(3, 3), stride=(1, 1), padding=(1, 1))\n",
       "  (25): ReLU (inplace)\n",
       "  (26): Conv2d(512, 512, kernel_size=(3, 3), stride=(1, 1), padding=(1, 1))\n",
       "  (27): ReLU (inplace)\n",
       "  (28): Conv2d(512, 512, kernel_size=(3, 3), stride=(1, 1), padding=(1, 1))\n",
       "  (29): ReLU (inplace)\n",
       "  (30): MaxPool2d (size=(2, 2), stride=(2, 2), dilation=(1, 1))\n",
       "  (31): Flatten (\n",
       "  )\n",
       "  (32): Linear (25088 -> 4096)\n",
       "  (33): ReLU (inplace)\n",
       "  (34): Dropout (p = 0.5)\n",
       "  (35): Linear (4096 -> 4096)\n",
       "  (36): ReLU (inplace)\n",
       "  (37): Linear (4096 -> 1)\n",
       ")"
      ]
     },
     "execution_count": 29,
     "metadata": {},
     "output_type": "execute_result"
    }
   ],
   "source": [
    "bs=32; sz=224\n",
    "f_model = vgg16\n",
    "n = 443\n",
    "val_idxs = get_cv_idxs(n, 0, val_pct=0.2)\n",
    "tfms = tfms_from_model(f_model, sz)\n",
    "data = ImageClassifierData.from_csv(path, 'train', f'{path}train.csv', bs, tfms, val_idxs=val_idxs, continuous=True)\n",
    "# note precompute=False \n",
    "models = ConvnetBuilderVGG(data.c, data.is_multi, data.is_reg)\n",
    "models.model"
   ]
  },
  {
   "cell_type": "code",
   "execution_count": 41,
   "metadata": {},
   "outputs": [],
   "source": [
    "class ConvLearnerVGG(ConvLearner):\n",
    "    \n",
    "    \n",
    "    # rewritting pretrained\n",
    "    @classmethod\n",
    "    def pretrained(cls, data, ps=None, **kwargs):\n",
    "        models = ConvnetBuilderVGG(data.c, data.is_multi, data.is_reg, ps=ps)\n",
    "        return cls(data, models, **kwargs)\n",
    "    \n",
    "    # redefining freeze to freeze everything but last layer\n",
    "    def freeze(self):\n",
    "        layers = children(self.model)\n",
    "        n = len(layers)\n",
    "        for l in layers:\n",
    "            l.trainable=False\n",
    "            for p in l.parameters(): p.requires_grad=False\n",
    "        l = layers[n-1]\n",
    "        l.trainable=True\n",
    "        for p in l.parameters(): p.requires_grad=True\n",
    "            \n",
    "    def unfreeze_prev_layer(self):\n",
    "        layers = children(self.model)\n",
    "        l = layers[35]\n",
    "        l.trainable=True\n",
    "        for p in l.parameters(): p.requires_grad=True\n",
    "        "
   ]
  },
  {
   "cell_type": "code",
   "execution_count": 31,
   "metadata": {},
   "outputs": [],
   "source": [
    "bs=32; sz=224\n",
    "f_model = vgg16\n",
    "n = 443\n",
    "val_idxs = get_cv_idxs(n, 0, val_pct=0.2)\n",
    "tfms = tfms_from_model(f_model, sz)"
   ]
  },
  {
   "cell_type": "code",
   "execution_count": 32,
   "metadata": {},
   "outputs": [],
   "source": [
    "data = ImageClassifierData.from_csv(path, 'train', f'{path}train.csv', bs, tfms, val_idxs=val_idxs, continuous=True)"
   ]
  },
  {
   "cell_type": "code",
   "execution_count": 33,
   "metadata": {},
   "outputs": [],
   "source": [
    "learn = ConvLearnerVGG.pretrained(data, ps=0.0, precompute=False)"
   ]
  },
  {
   "cell_type": "code",
   "execution_count": 34,
   "metadata": {},
   "outputs": [
    {
     "data": {
      "text/plain": [
       "[Parameter containing:\n",
       " 1.00000e-02 *\n",
       " -2.5014  2.9711 -0.7128  ...  -0.2647 -0.6239  1.1922\n",
       " [torch.cuda.FloatTensor of size 1x4096 (GPU 0)], Parameter containing:\n",
       "  0\n",
       " [torch.cuda.FloatTensor of size 1 (GPU 0)]]"
      ]
     },
     "execution_count": 34,
     "metadata": {},
     "output_type": "execute_result"
    }
   ],
   "source": [
    "m = learn.models.model\n",
    "trainable_params_(m)"
   ]
  },
  {
   "cell_type": "code",
   "execution_count": 35,
   "metadata": {},
   "outputs": [
    {
     "data": {
      "text/plain": [
       "[Parameter containing:\n",
       " -1.1262e-02  1.0421e-02 -1.6899e-03  ...  -1.6088e-02  1.2137e-02  6.5078e-03\n",
       " -5.4509e-04 -7.8270e-03  7.1184e-03  ...  -4.0817e-03  9.8776e-03 -1.1085e-02\n",
       " -1.0933e-02 -5.1533e-03  1.6766e-02  ...  -3.6180e-03  3.5386e-03 -2.2417e-02\n",
       "                 ...                   ⋱                   ...                \n",
       " -1.0725e-02 -7.2678e-03 -3.8252e-03  ...  -2.4693e-03  8.3481e-03 -5.4105e-03\n",
       "  5.4018e-03  8.1430e-03 -1.3569e-02  ...   4.0841e-03 -4.1793e-04 -2.2802e-03\n",
       "  2.8788e-02  6.5824e-03  4.8993e-03  ...   2.4367e-02  6.5563e-03 -7.2610e-03\n",
       " [torch.cuda.FloatTensor of size 4096x4096 (GPU 0)], Parameter containing:\n",
       "  0.0332\n",
       "  0.0616\n",
       "  0.0307\n",
       "    ⋮   \n",
       "  0.0456\n",
       "  0.0442\n",
       "  0.0588\n",
       " [torch.cuda.FloatTensor of size 4096 (GPU 0)], Parameter containing:\n",
       " 1.00000e-02 *\n",
       " -2.5014  2.9711 -0.7128  ...  -0.2647 -0.6239  1.1922\n",
       " [torch.cuda.FloatTensor of size 1x4096 (GPU 0)], Parameter containing:\n",
       "  0\n",
       " [torch.cuda.FloatTensor of size 1 (GPU 0)]]"
      ]
     },
     "execution_count": 35,
     "metadata": {},
     "output_type": "execute_result"
    }
   ],
   "source": [
    "learn.unfreeze_prev_layer()\n",
    "trainable_params_(m)"
   ]
  },
  {
   "cell_type": "markdown",
   "metadata": {},
   "source": [
    "## Cross validation"
   ]
  },
  {
   "cell_type": "code",
   "execution_count": 36,
   "metadata": {},
   "outputs": [],
   "source": [
    "n = 443\n",
    "bs=32; sz=224\n",
    "\n",
    "transforms_basic = [RandomRotateXY(10), RandomDihedralXY()]\n",
    "transforms_basic = [RandomRotateXY(10)]"
   ]
  },
  {
   "cell_type": "markdown",
   "metadata": {},
   "source": [
    "Here is code to do cross-validation"
   ]
  },
  {
   "cell_type": "code",
   "execution_count": 42,
   "metadata": {},
   "outputs": [],
   "source": [
    "def get_model_i(i=0):\n",
    "    val_idxs = get_cv_idxs(n, i, val_pct=0.1)\n",
    "    tfms = tfms_from_model(f_model, sz, aug_tfms=transforms_basic, max_zoom=1.05)\n",
    "    data = ImageClassifierData.from_csv(path, 'train', f'{path}train.csv', bs, tfms, val_idxs=val_idxs,\n",
    "                                        continuous=True)\n",
    "    learn = ConvLearnerVGG.pretrained(data, ps=0.0, precompute=False)\n",
    "    return learn"
   ]
  },
  {
   "cell_type": "markdown",
   "metadata": {},
   "source": [
    "How to train is work in progress"
   ]
  },
  {
   "cell_type": "code",
   "execution_count": 43,
   "metadata": {},
   "outputs": [],
   "source": [
    "def fit_and_predict(learn):\n",
    "    learn.fit(1e-3, 3)\n",
    "    learn.fit(1e-4, 4)\n",
    "    print(\"unfreezing\")\n",
    "    learn.unfreeze_prev_layer()\n",
    "    #learn.fit(1e-5, 3, cycle_len=1, cycle_mult=2)\n",
    "    learn.fit(1e-5, 3)\n",
    "    return learn.TTA()"
   ]
  },
  {
   "cell_type": "markdown",
   "metadata": {},
   "source": [
    "Predictions"
   ]
  },
  {
   "cell_type": "code",
   "execution_count": null,
   "metadata": {},
   "outputs": [
    {
     "name": "stdout",
     "output_type": "stream",
     "text": [
      "iteration  0\n"
     ]
    },
    {
     "data": {
      "application/vnd.jupyter.widget-view+json": {
       "model_id": "0bb4283929d543d48ec14495bae885c6",
       "version_major": 2,
       "version_minor": 0
      },
      "text/plain": [
       "A Jupyter Widget"
      ]
     },
     "metadata": {},
     "output_type": "display_data"
    },
    {
     "name": "stdout",
     "output_type": "stream",
     "text": [
      "[ 0.       1.6685   0.94829]                              \n",
      "[ 1.       1.51883  0.85784]                              \n",
      "[ 2.       1.44265  0.79279]                              \n",
      "\n"
     ]
    },
    {
     "data": {
      "application/vnd.jupyter.widget-view+json": {
       "model_id": "a9165777d98a4244bf068427ddaa0c49",
       "version_major": 2,
       "version_minor": 0
      },
      "text/plain": [
       "A Jupyter Widget"
      ]
     },
     "metadata": {},
     "output_type": "display_data"
    },
    {
     "name": "stdout",
     "output_type": "stream",
     "text": [
      "[ 0.       1.23457  0.79815]                              \n",
      "[ 1.       1.26057  0.80246]                              \n",
      "[ 2.       1.27221  0.79776]                              \n",
      "[ 3.       1.26376  0.81702]                              \n",
      "\n",
      "unfreezing\n"
     ]
    },
    {
     "data": {
      "application/vnd.jupyter.widget-view+json": {
       "model_id": "c2e2d49771a74e5195c8243f73394e72",
       "version_major": 2,
       "version_minor": 0
      },
      "text/plain": [
       "A Jupyter Widget"
      ]
     },
     "metadata": {},
     "output_type": "display_data"
    },
    {
     "name": "stdout",
     "output_type": "stream",
     "text": [
      "[ 0.       1.24258  0.80606]                              \n",
      "[ 1.       1.28194  0.79753]                              \n",
      "[ 2.       1.28094  0.79773]                              \n",
      "\n",
      "iteration  1                                 \n"
     ]
    },
    {
     "data": {
      "application/vnd.jupyter.widget-view+json": {
       "model_id": "f0d9fec280c34bdaa5d5d55778619684",
       "version_major": 2,
       "version_minor": 0
      },
      "text/plain": [
       "A Jupyter Widget"
      ]
     },
     "metadata": {},
     "output_type": "display_data"
    },
    {
     "name": "stdout",
     "output_type": "stream",
     "text": [
      "[ 0.       1.51842  1.65887]                              \n",
      "[ 1.       1.44008  1.64367]                              \n",
      "[ 2.       1.38457  1.65654]                              \n",
      "\n"
     ]
    },
    {
     "data": {
      "application/vnd.jupyter.widget-view+json": {
       "model_id": "ea26be61c709448bb1863490554ca8de",
       "version_major": 2,
       "version_minor": 0
      },
      "text/plain": [
       "A Jupyter Widget"
      ]
     },
     "metadata": {},
     "output_type": "display_data"
    },
    {
     "name": "stdout",
     "output_type": "stream",
     "text": [
      "[ 0.       1.27069  1.58639]                              \n",
      "[ 1.       1.24826  1.57199]                              \n",
      "[ 2.       1.21741  1.57445]                              \n",
      "[ 3.       1.19158  1.56302]                              \n",
      "\n",
      "unfreezing\n"
     ]
    },
    {
     "data": {
      "application/vnd.jupyter.widget-view+json": {
       "model_id": "ea3edac407ad4213859cba212e321d64",
       "version_major": 2,
       "version_minor": 0
      },
      "text/plain": [
       "A Jupyter Widget"
      ]
     },
     "metadata": {},
     "output_type": "display_data"
    },
    {
     "name": "stdout",
     "output_type": "stream",
     "text": [
      "[ 0.       1.17024  1.56515]                              \n",
      "[ 1.       1.20153  1.57576]                              \n",
      "[ 2.       1.20192  1.57898]                              \n",
      "\n",
      "iteration  2                                 \n"
     ]
    },
    {
     "data": {
      "application/vnd.jupyter.widget-view+json": {
       "model_id": "0944a56e251a414886745e867691001f",
       "version_major": 2,
       "version_minor": 0
      },
      "text/plain": [
       "A Jupyter Widget"
      ]
     },
     "metadata": {},
     "output_type": "display_data"
    },
    {
     "name": "stdout",
     "output_type": "stream",
     "text": [
      "[ 0.       1.51707  2.20786]                              \n",
      "[ 1.       1.40498  2.22756]                              \n",
      "[ 2.       1.39592  2.09034]                              \n",
      "\n"
     ]
    },
    {
     "data": {
      "application/vnd.jupyter.widget-view+json": {
       "model_id": "a2241dbb6f8a434986a7c9408fd3babe",
       "version_major": 2,
       "version_minor": 0
      },
      "text/plain": [
       "A Jupyter Widget"
      ]
     },
     "metadata": {},
     "output_type": "display_data"
    },
    {
     "name": "stdout",
     "output_type": "stream",
     "text": [
      "[ 0.       1.21499  2.11624]                              \n",
      "[ 1.       1.21059  2.0987 ]                              \n",
      "[ 2.       1.20059  2.10542]                              \n",
      "[ 3.       1.18926  2.08794]                              \n",
      "\n",
      "unfreezing\n"
     ]
    },
    {
     "data": {
      "application/vnd.jupyter.widget-view+json": {
       "model_id": "88b28b8903684517a0c6521ab3b8aa90",
       "version_major": 2,
       "version_minor": 0
      },
      "text/plain": [
       "A Jupyter Widget"
      ]
     },
     "metadata": {},
     "output_type": "display_data"
    },
    {
     "name": "stdout",
     "output_type": "stream",
     "text": [
      "[ 0.       1.23297  2.0862 ]                              \n",
      "[ 1.       1.19877  2.07747]                              \n",
      "[ 2.       1.19339  2.06899]                              \n",
      "\n",
      "iteration  3                                 \n"
     ]
    },
    {
     "data": {
      "application/vnd.jupyter.widget-view+json": {
       "model_id": "270df3eb5f0b4068b24e05f745ade082",
       "version_major": 2,
       "version_minor": 0
      },
      "text/plain": [
       "A Jupyter Widget"
      ]
     },
     "metadata": {},
     "output_type": "display_data"
    },
    {
     "name": "stdout",
     "output_type": "stream",
     "text": [
      "[ 0.       1.7207   1.25394]                              \n",
      "[ 1.       1.5707   1.25557]                              \n",
      "[ 2.       1.47394  1.30329]                              \n",
      "\n"
     ]
    },
    {
     "data": {
      "application/vnd.jupyter.widget-view+json": {
       "model_id": "4aba6bf4ef5e422db781be72c715ee92",
       "version_major": 2,
       "version_minor": 0
      },
      "text/plain": [
       "A Jupyter Widget"
      ]
     },
     "metadata": {},
     "output_type": "display_data"
    },
    {
     "name": "stdout",
     "output_type": "stream",
     "text": [
      "[ 0.       1.23216  1.16033]                              \n",
      "[ 1.       1.26298  1.22676]                              \n",
      "[ 2.       1.2541   1.18198]                              \n",
      "[ 3.       1.21853  1.20137]                              \n",
      "\n",
      "unfreezing\n"
     ]
    },
    {
     "data": {
      "application/vnd.jupyter.widget-view+json": {
       "model_id": "37e627ce9368436cb42f37116e805519",
       "version_major": 2,
       "version_minor": 0
      },
      "text/plain": [
       "A Jupyter Widget"
      ]
     },
     "metadata": {},
     "output_type": "display_data"
    },
    {
     "name": "stdout",
     "output_type": "stream",
     "text": [
      "[ 0.       1.22858  1.19656]                              \n",
      "[ 1.       1.2255   1.19418]                              \n",
      "[ 2.       1.26325  1.18925]                              \n",
      "\n",
      "iteration  4                                 \n"
     ]
    },
    {
     "data": {
      "application/vnd.jupyter.widget-view+json": {
       "model_id": "97144daa119b431d8ea40ad4be990569",
       "version_major": 2,
       "version_minor": 0
      },
      "text/plain": [
       "A Jupyter Widget"
      ]
     },
     "metadata": {},
     "output_type": "display_data"
    },
    {
     "name": "stdout",
     "output_type": "stream",
     "text": [
      "[ 0.       1.60452  1.55931]                              \n",
      "[ 1.       1.50887  1.47854]                              \n",
      "[ 2.       1.41685  1.46606]                              \n",
      "\n"
     ]
    },
    {
     "data": {
      "application/vnd.jupyter.widget-view+json": {
       "model_id": "eab76056e3c44c598cd7a151e6e03bd0",
       "version_major": 2,
       "version_minor": 0
      },
      "text/plain": [
       "A Jupyter Widget"
      ]
     },
     "metadata": {},
     "output_type": "display_data"
    },
    {
     "name": "stdout",
     "output_type": "stream",
     "text": [
      "[ 0.       1.21113  1.38692]                              \n",
      "[ 1.       1.23493  1.39054]                              \n",
      "[ 2.       1.2237   1.38537]                              \n",
      "[ 3.       1.21578  1.39961]                              \n",
      "\n",
      "unfreezing\n"
     ]
    },
    {
     "data": {
      "application/vnd.jupyter.widget-view+json": {
       "model_id": "c578b0d223614cd2b742b5d332549429",
       "version_major": 2,
       "version_minor": 0
      },
      "text/plain": [
       "A Jupyter Widget"
      ]
     },
     "metadata": {},
     "output_type": "display_data"
    },
    {
     "name": "stdout",
     "output_type": "stream",
     "text": [
      "[ 0.       1.17393  1.38887]                              \n",
      "[ 1.       1.17992  1.38784]                              \n",
      "[ 2.       1.19518  1.38557]                              \n",
      "\n",
      "iteration  5                                 \n"
     ]
    },
    {
     "data": {
      "application/vnd.jupyter.widget-view+json": {
       "model_id": "4e743aa71baa4e1c97de7ba0bc53723b",
       "version_major": 2,
       "version_minor": 0
      },
      "text/plain": [
       "A Jupyter Widget"
      ]
     },
     "metadata": {},
     "output_type": "display_data"
    },
    {
     "name": "stdout",
     "output_type": "stream",
     "text": [
      "[ 0.       1.49682  1.14853]                              \n",
      "[ 1.       1.47694  0.91438]                              \n",
      "[ 2.       1.40468  0.91854]                              \n",
      "\n"
     ]
    },
    {
     "data": {
      "application/vnd.jupyter.widget-view+json": {
       "model_id": "0c9605d7277e43699760465ca986615c",
       "version_major": 2,
       "version_minor": 0
      },
      "text/plain": [
       "A Jupyter Widget"
      ]
     },
     "metadata": {},
     "output_type": "display_data"
    },
    {
     "name": "stdout",
     "output_type": "stream",
     "text": [
      "[ 0.       1.26226  0.88909]                              \n",
      "[ 1.       1.26846  0.85841]                              \n",
      "[ 2.       1.25931  0.86771]                              \n",
      "[ 3.       1.23911  0.8545 ]                              \n",
      "\n",
      "unfreezing\n"
     ]
    },
    {
     "data": {
      "application/vnd.jupyter.widget-view+json": {
       "model_id": "d5d02f840b8643fea9c0c7a37ed204d2",
       "version_major": 2,
       "version_minor": 0
      },
      "text/plain": [
       "A Jupyter Widget"
      ]
     },
     "metadata": {},
     "output_type": "display_data"
    },
    {
     "name": "stdout",
     "output_type": "stream",
     "text": [
      "[ 0.       1.26749  0.85512]                              \n",
      "  0%|          | 0/13 [00:00<?, ?it/s]"
     ]
    }
   ],
   "source": [
    "preds = []\n",
    "for i in range(11):\n",
    "    print(\"iteration \", i)\n",
    "    learn = get_model_i(i)\n",
    "    preds.append(fit_and_predict(learn))"
   ]
  },
  {
   "cell_type": "code",
   "execution_count": 26,
   "metadata": {},
   "outputs": [],
   "source": [
    "def reshape_preds(preds):\n",
    "    predictions = [preds[i][0] for i in range(11)]\n",
    "    y = [preds[i][1] for i in range(11)]\n",
    "    pp = np.vstack(predictions)\n",
    "    yy = np.vstack(y)\n",
    "    print(yy.shape)\n",
    "    pp = np.maximum(pp, 0.0)\n",
    "    err = np.abs(pp - yy).mean()\n",
    "    print(\"err\", err)"
   ]
  },
  {
   "cell_type": "code",
   "execution_count": null,
   "metadata": {},
   "outputs": [],
   "source": [
    "reshape_preds(preds)"
   ]
  }
 ],
 "metadata": {
  "kernelspec": {
   "display_name": "Python 3",
   "language": "python",
   "name": "python3"
  },
  "language_info": {
   "codemirror_mode": {
    "name": "ipython",
    "version": 3
   },
   "file_extension": ".py",
   "mimetype": "text/x-python",
   "name": "python",
   "nbconvert_exporter": "python",
   "pygments_lexer": "ipython3",
   "version": "3.6.3"
  }
 },
 "nbformat": 4,
 "nbformat_minor": 2
}
